{
 "cells": [
  {
   "cell_type": "markdown",
   "metadata": {},
   "source": [
    "## Smiley GAN\n",
    "In this notebook, we showcase a very basic implementation for [Adaptive IMLE](paper_link) and [Vanilla IMLE](https://arxiv.org/abs/1809.09087) in 2D.\n",
    "\n",
    "While Vanilla IMLE fails to cover all data examples even in this simple situation, Adaptive IMLE covers all data examples showing superior mode-coverage. "
   ]
  },
  {
   "cell_type": "code",
   "execution_count": 1,
   "metadata": {},
   "outputs": [],
   "source": [
    "import os\n",
    "import torch\n",
    "import copy\n",
    "import torch.nn as nn\n",
    "import torch.nn.functional as F\n",
    "import imageio\n",
    "from tqdm import tqdm\n",
    "from matplotlib import pyplot as plt\n",
    "import random\n",
    "import numpy as np\n",
    "import seaborn as sns\n",
    "import pandas as pd\n",
    "from siren_pytorch import SirenNet\n",
    "from torch.distributions import Beta\n",
    "\n",
    "seed = 0\n",
    "torch.manual_seed(seed)\n",
    "random.seed(seed)\n",
    "np.random.seed(seed)"
   ]
  },
  {
   "cell_type": "markdown",
   "metadata": {},
   "source": [
    "### Generator\n",
    "Here we define a simple generator consisting of a few fully connected layers. We initial its weight using standard Gaussian."
   ]
  },
  {
   "cell_type": "code",
   "execution_count": 2,
   "metadata": {},
   "outputs": [],
   "source": [
    "def init_weights(m):\n",
    "    def truncated_normal_init(t, mean=0.0, std=0.5):\n",
    "        torch.nn.init.normal_(t, mean=mean, std=std)\n",
    "        while True:\n",
    "            cond = torch.logical_or(t < mean - 2 * std, t > mean + 2 * std)\n",
    "            if not torch.sum(cond):\n",
    "                break\n",
    "            t = torch.where(cond, torch.nn.init.normal_(torch.ones(t.shape), mean=mean, std=std), t)\n",
    "        return t\n",
    "    "
   ]
  },
  {
   "cell_type": "code",
   "execution_count": 3,
   "metadata": {},
   "outputs": [],
   "source": [
    "class Generator(nn.Module):\n",
    "    def __init__(self, n_mlp=5, in_dim=32, out_dim=2, hidden_dim=128):\n",
    "        super().__init__()\n",
    "        assert(n_mlp >= 2)\n",
    "\n",
    "        layers = [nn.Linear(in_dim, hidden_dim), nn.LeakyReLU(0.2)]\n",
    "        for i in range(n_mlp - 2):\n",
    "            layers.append(nn.Linear(hidden_dim, hidden_dim))\n",
    "            layers.append(nn.Sigmoid())\n",
    "        layers.append(nn.Linear(hidden_dim, out_dim))\n",
    "        self.layers = nn.Sequential(*layers)\n",
    "#         self.apply(init_weights)        \n",
    "\n",
    "\n",
    "    def forward(self, latents):\n",
    "        return self.layers(latents)"
   ]
  },
  {
   "cell_type": "code",
   "execution_count": 4,
   "metadata": {},
   "outputs": [],
   "source": [
    "# Discriminator model\n",
    "class Discriminator(nn.Module):\n",
    "    def __init__(self, input_dim = 2):\n",
    "        super(Discriminator, self).__init__()\n",
    "        self.model = nn.Sequential(\n",
    "            nn.Linear(input_dim, 32),\n",
    "            nn.ReLU(),\n",
    "            nn.Linear(32, 1),\n",
    "            nn.Sigmoid()\n",
    "        )\n",
    "\n",
    "    def forward(self, x):\n",
    "        return self.model(x)"
   ]
  },
  {
   "cell_type": "markdown",
   "metadata": {},
   "source": [
    "### Plotting function\n",
    "We define a simple plotting function to visualize data examples and generated examples."
   ]
  },
  {
   "cell_type": "code",
   "execution_count": 5,
   "metadata": {},
   "outputs": [],
   "source": [
    "def plot_kde(generated, data_points, f_name, title):\n",
    "    plt.clf()\n",
    "    data = pd.DataFrame.from_dict({'x': generated[:, 0], 'y': generated[:, 1]})\n",
    "    plt.figure(figsize=(8, 6))\n",
    "    plt.ylim(-0.3, 0.4)\n",
    "    plt.xlim(-0.35, 0.35)\n",
    "    plt.title(title)\n",
    "    plt.scatter(data_points[:, 0], data_points[:, 1], label=\"Real data points\", color=\"blue\")\n",
    "    sns.kdeplot(data=data, fill=True, levels=200, alpha=0.5, palette=\"rocket_r\") \n",
    "    plt.savefig(f_name)\n",
    "    plt.close()\n",
    "\n",
    "    \n",
    "\n",
    "def plot_nns(g, data_points, zs, selected_z, title=None, f_name=None, arrow=False, vanilla=False):\n",
    "    generated = g(zs).detach()\n",
    "    if(not vanilla):\n",
    "        selected = g(selected_z).detach()\n",
    "    plt.figure(figsize=(8, 6))\n",
    "    # plt.rcParams[\"figure.figsize\"] = [7.50, 3.50]\n",
    "    plt.scatter(data_points[:, 0], data_points[:, 1], label=\"Real data points\", color=\"blue\", marker=\"s\")\n",
    "    plt.scatter(generated[:, 0], generated[:, 1], label=\"Generated samples\", color=\"orange\", alpha=0.4, marker=\".\")\n",
    "    if(not vanilla):\n",
    "        plt.scatter(selected[:, 0], selected[:, 1], label=\"Nearest neighbours\", color=\"red\",marker=\".\")\n",
    "\n",
    "    if arrow:\n",
    "        gen_to_data_vec = data_points - generated\n",
    "        # unit_vecs = gen_to_data_vec / np.linalg.norm(gen_to_data_vec, axis=1)[:, None]\n",
    "        plt.quiver(generated[:, 0], generated[:, 1], 0.19*gen_to_data_vec[:, 0], 0.19*gen_to_data_vec[:, 1],\n",
    "                   color=\"black\", scale_units=\"xy\", angles='xy', scale=0.2, width=0.0015, headwidth=10, headlength=10, label=\"Nearest neighbour vectors\")\n",
    "\n",
    "    plt.legend()\n",
    "    plt.title(title)\n",
    "    plt.ylim(-1.2, 1.2)\n",
    "    plt.xlim(-1.2, 1.2)\n",
    "    if f_name:\n",
    "        plt.savefig(f_name)\n",
    "        plt.close()\n",
    "        #plot_kde(generated, data_points, f_name.replace(\".png\", \"_kde.png\"), title)\n",
    "    else:\n",
    "        plt.show()\n",
    "        \n",
    "\n",
    "def plot_final(g, data_points, zs, selected_z, title=None, f_name=None, arrow=False, vanilla=False):\n",
    "    generated = g(zs).detach()\n",
    "    if(not vanilla):\n",
    "        selected = g(selected_z).detach()\n",
    "    plt.figure(figsize=(8, 6))\n",
    "    # plt.rcParams[\"figure.figsize\"] = [7.50, 3.50]\n",
    "    # plt.scatter(data_points[:, 0], data_points[:, 1], label=\"Real data points\", color=\"blue\", marker=\"s\")\n",
    "    plt.scatter(generated[:, 0], generated[:, 1], label=\"Generated samples\", color=\"orange\", alpha=0.1, marker=\".\")\n",
    "    if(not vanilla):\n",
    "        plt.scatter(selected[:, 0], selected[:, 1], label=\"Nearest neighbours\", color=\"red\",marker=\".\")\n",
    "\n",
    "    if arrow:\n",
    "        gen_to_data_vec = data_points - generated\n",
    "        # unit_vecs = gen_to_data_vec / np.linalg.norm(gen_to_data_vec, axis=1)[:, None]\n",
    "        plt.quiver(generated[:, 0], generated[:, 1], 0.19*gen_to_data_vec[:, 0], 0.19*gen_to_data_vec[:, 1],\n",
    "                   color=\"black\", scale_units=\"xy\", angles='xy', scale=0.2, width=0.0015, headwidth=10, headlength=10, label=\"Nearest neighbour vectors\")\n",
    "\n",
    "    plt.legend()\n",
    "    plt.title(title)\n",
    "    plt.ylim(-1.2, 1.2)\n",
    "    plt.xlim(-1.2, 1.2)\n",
    "    if f_name:\n",
    "        plt.savefig(f_name)\n",
    "        plt.close()\n",
    "        #plot_kde(generated, data_points, f_name.replace(\".png\", \"_kde.png\"), title)\n",
    "    else:\n",
    "        plt.show()"
   ]
  },
  {
   "cell_type": "markdown",
   "metadata": {},
   "source": [
    "### Hyperparameters\n",
    "Here we defined a few hyperparameters."
   ]
  },
  {
   "cell_type": "code",
   "execution_count": 12,
   "metadata": {},
   "outputs": [],
   "source": [
    "zdim = 32  # latent space dimension"
   ]
  },
  {
   "cell_type": "markdown",
   "metadata": {},
   "source": [
    "# Dataset\n",
    "Here we consider some 2D data examples defined by _data\\_points_. We create a generator object and visualize some generated samples."
   ]
  },
  {
   "cell_type": "code",
   "execution_count": 8,
   "metadata": {},
   "outputs": [
    {
     "data": {
      "image/png": "[encoded data removed]",
      "text/plain": [
       "<Figure size 800x600 with 1 Axes>"
      ]
     },
     "metadata": {},
     "output_type": "display_data"
    }
   ],
   "source": [
    "g = Generator(n_mlp=4, in_dim=zdim, hidden_dim=16)\n",
    "d = Discriminator(input_dim=2)\n",
    "# g = GeneratorLehsun(n_mlp=4, in_dim=zdim)\n",
    "# data_points = torch.tensor([\n",
    "#         [-0.1257,  0.3797],\n",
    "#         [-0.1573,  0.1287],\n",
    "#         [ 0.1076,  0.0971],\n",
    "#         [ 0.1443,  0.1333],\n",
    "#         [-0.1243,  0.1533],\n",
    "#         [-0.0321,  0.1898],\n",
    "#         [ 0.1347, -0.1573],\n",
    "#         [-0.3069,  0.2949],\n",
    "#         [ 0.0202,  0.1158],\n",
    "#         [ 0.3023,  0.3158],\n",
    "#         [ 0.2379, -0.2279],\n",
    "#         [-0.2379, -0.2279],\n",
    "#         [-0.0295,  0.0197],\n",
    "#         [ 0.0853, -0.0708]])\n",
    "\n",
    "data_points = torch.load(\"smiley.pt\")\n",
    "\n",
    "data_points -= torch.mean(data_points, 0)\n",
    "data_points /= torch.tensor([20,10])\n",
    "\n",
    "n = data_points.shape[0]\n",
    "nz = data_points.shape[0]*10  # pool size\n",
    "zs = torch.randn(nz, zdim)\n",
    "\n",
    "plot_nns(g, data_points, zs, None, title=\"Generated samples\", vanilla=True)"
   ]
  },
  {
   "cell_type": "code",
   "execution_count": 23,
   "metadata": {},
   "outputs": [],
   "source": [
    "lr = 0.0001  # learning rate\n",
    "epochs = 10000  # number of epochs for training\n",
    "tau=0.85  # tightening threshold defined in the Adaptive IMLE paper\n",
    "noise_coef = 0.000001  # additive noise coeficient\n",
    "staleness = 1000  # staleness for Vanilla IMLE\n",
    "\n",
    "optim_g = torch.optim.Adam(g.parameters(), lr=lr)\n",
    "optim_d = torch.optim.Adam(d.parameters(), lr=lr)\n"
   ]
  },
  {
   "cell_type": "markdown",
   "metadata": {},
   "source": [
    "### Vanilla IMLE implementation\n",
    "Here we implement a basic version of Vanilla IMLE."
   ]
  },
  {
   "cell_type": "code",
   "execution_count": 24,
   "metadata": {},
   "outputs": [
    {
     "name": "stderr",
     "output_type": "stream",
     "text": [
      "100%|██████████| 100000/100000 [01:51<00:00, 898.61it/s]\n"
     ]
    }
   ],
   "source": [
    "generator = Generator(n_mlp=4, in_dim=zdim, hidden_dim=16)\n",
    "discriminator = Discriminator(input_dim=2)\n",
    "generator_optimizer = torch.optim.Adam(generator.parameters(), lr=lr)\n",
    "discriminator_optimizer = torch.optim.Adam(discriminator.parameters(), lr=lr)\n",
    "epochs = 100000\n",
    "criterion = nn.BCELoss()\n",
    "plot_staleness = 5000\n",
    "nz = data_points.shape[0]*10\n",
    "\n",
    "\n",
    "for e in tqdm(range(epochs)):\n",
    "    noise = torch.randn(n, zdim)\n",
    "\n",
    "    # Generate fake data using the generator\n",
    "    fake_data = generator(noise)\n",
    "\n",
    "    # Real data\n",
    "    real_data = data_points\n",
    "\n",
    "    # Labels for real and fake data\n",
    "    real_labels = torch.ones(n, 1)\n",
    "    fake_labels = torch.zeros(n, 1)\n",
    "\n",
    "    # Train the discriminator\n",
    "    discriminator_optimizer.zero_grad()\n",
    "    real_predictions = discriminator(real_data)\n",
    "    real_loss = criterion(real_predictions, real_labels)\n",
    "    \n",
    "    fake_predictions = discriminator(fake_data.detach())\n",
    "    fake_loss = criterion(fake_predictions, fake_labels)\n",
    "\n",
    "    discriminator_loss = real_loss + fake_loss\n",
    "    discriminator_loss.backward()\n",
    "    discriminator_optimizer.step()\n",
    "\n",
    "    # Train the generator\n",
    "    generator_optimizer.zero_grad()\n",
    "    generated_data = generator(noise)\n",
    "    generator_loss = criterion(discriminator(generated_data), real_labels)\n",
    "\n",
    "    generator_loss.backward()\n",
    "    generator_optimizer.step()\n",
    "    \n",
    "    if e % plot_staleness == 0:\n",
    "        zs = torch.randn(n, zdim)\n",
    "        plot_final(generator, data_points, zs, None, title=f\"Epoch {e}\", f_name=f\"plots_smiley_gan/epoch-{e}.png\", arrow=False, vanilla=True)\n",
    "\n",
    "\n",
    "\n",
    "\n",
    "nz_fake = data_points.shape[0]*10\n",
    "zs = torch.randn(nz_fake, zdim)\n",
    "plot_final(generator, data_points, zs, None, title=\"GAN\", f_name=f\"plots_smiley_gan/gan-final.png\", arrow=False, vanilla=True)\n",
    "\n"
   ]
  },
  {
   "cell_type": "markdown",
   "metadata": {},
   "source": [
    "## Mixup Distance"
   ]
  },
  {
   "cell_type": "code",
   "execution_count": 14,
   "metadata": {},
   "outputs": [],
   "source": [
    "def find_nn_improved(data_point, generated, limit = 1e-3,print_results=False):\n",
    "    l2_distances = np.linalg.norm(generated[:, np.newaxis] - data_point , axis=2)\n",
    "    to_exclude = l2_distances < limit\n",
    "    bad_samples_list = np.expand_dims(to_exclude.any(axis=1),-1)\n",
    "    bad_samples_list_repeated = np.tile(bad_samples_list,to_exclude.shape[1])\n",
    "    l2_distances[bad_samples_list_repeated] = np.inf\n",
    "    result = np.argmin(l2_distances,axis=0)\n",
    "    return result"
   ]
  },
  {
   "cell_type": "code",
   "execution_count": 32,
   "metadata": {},
   "outputs": [
    {
     "name": "stderr",
     "output_type": "stream",
     "text": [
      "100%|██████████| 100000/100000 [02:52<00:00, 580.49it/s]\n"
     ]
    }
   ],
   "source": [
    "improved_imle_g = copy.deepcopy(g)\n",
    "optim = torch.optim.Adam(improved_imle_g.parameters(), lr=lr)\n",
    "imle_nn_z = torch.randn(n, zdim)\n",
    "epochs = 100000\n",
    "staleness = 25\n",
    "plot_staleness = 5000\n",
    "factor = 10\n",
    "nz = data_points.shape[0]*factor\n",
    "frequerency = 25\n",
    "\n",
    "for e in tqdm(range(epochs)):\n",
    "    with torch.no_grad():\n",
    "        if e % staleness == 0:\n",
    "            zs = torch.randn(nz, zdim)\n",
    "            generated = improved_imle_g(zs).detach()\n",
    "            nns = torch.tensor([find_nn(d, generated) for d in data_points], dtype=torch.long)\n",
    "            imle_nn_z = zs[nns] + torch.randn(nns.shape[0], zdim) * noise_coef\n",
    "        if e % plot_staleness == 0:\n",
    "            plot_final(improved_imle_g, data_points, zs, None, title=f\"Epoch {e}\", f_name=f\"plots_smiley_bi/mixup-epoch-{e}.png\", arrow=False, vanilla=True)\n",
    "\n",
    "    optim.zero_grad()\n",
    "    outs = improved_imle_g(imle_nn_z)\n",
    "    dists = torch.sum((outs - data_points)**2, dim=1)\n",
    "    loss = dists.mean()\n",
    "    loss.backward()\n",
    "    optim.step()\n",
    "\n",
    "    if(e % frequerency == 0):\n",
    "        zs_reverse = torch.randn(nz, zdim)\n",
    "        generated_reverse = improved_imle_g(zs_reverse).detach()\n",
    "        nns_reverse = torch.tensor([find_nn(d, data_points) for d in generated_reverse], dtype=torch.long)\n",
    "        data_points_reverse = data_points[nns_reverse]\n",
    "\n",
    "        optim.zero_grad()\n",
    "        outs_reverse = improved_imle_g(zs_reverse)\n",
    "        dists = torch.sum((outs_reverse - data_points_reverse)**2, dim=1)\n",
    "        loss = dists.mean()\n",
    "        loss.backward()\n",
    "        optim.step()\n",
    "\n",
    "\n",
    "nz_fake = data_points.shape[0]*10\n",
    "zs = torch.randn(nz_fake, zdim)\n",
    "plot_final(improved_imle_g, data_points, zs, None, title=\"Mixup IMLE\", f_name=f\"plots_smiley_bi/mixup-imle-final-{staleness}-{frequerency}.png\", arrow=False, vanilla=True)\n"
   ]
  },
  {
   "cell_type": "code",
   "execution_count": 51,
   "metadata": {},
   "outputs": [],
   "source": [
    "anchors = torch.zeros(n, zdim)\n",
    "for i in range(n):\n",
    "    anchors[i][i] = 1"
   ]
  },
  {
   "cell_type": "markdown",
   "metadata": {},
   "source": [
    "### Visualizing results\n",
    "Here we visualize nearest neighbour of each data example among randomly generated samples after training. We can see that Vanilla IMLE fails to cover the left-most and right-most data examples while Adaptive IMLE succeeds in covering all data examples the same."
   ]
  },
  {
   "cell_type": "code",
   "execution_count": null,
   "metadata": {},
   "outputs": [],
   "source": [
    "nz = 500  # number of generated samples\n",
    "\n",
    "zs = torch.randn(nz, zdim)\n",
    "generated = ada_imle_g(zs).detach()\n",
    "nns = [find_nn(data_points[i], generated) for i in range(n)]\n",
    "plot_nns(ada_imle_g, data_points, zs[nns], title=f\"Adaptive IMLE results\", arrow=True)\n",
    "\n",
    "generated = imle_g(zs).detach()\n",
    "nns = [find_nn(data_points[i], generated) for i in range(n)]\n",
    "plot_nns(imle_g, data_points, zs[nns], title=f\"IMLE results\", arrow=True)"
   ]
  },
  {
   "cell_type": "code",
   "execution_count": null,
   "metadata": {},
   "outputs": [],
   "source": [
    "# generated = generated.detach().numpy()\n",
    "# sns.kdeplot(data={'x': generated[:, 0], 'y': generated[:, 1]}, x=\"x\", y=\"y\", fill=True, alpha=1., cmap='rocket_r', levels=30) \n",
    "generated = imle_g(zs).detach().numpy()\n",
    "data = pd.DataFrame.from_dict({'x': generated[:, 0], 'y': generated[:, 1]})\n",
    "plt.figure(figsize=(8, 6))\n",
    "plt.ylim(-0.3, 0.4)\n",
    "plt.xlim(-0.35, 0.35)\n",
    "plt.scatter(data_points[:, 0], data_points[:, 1], label=\"Real data points\", color=\"blue\")\n",
    "sns.kdeplot(data=data, fill=True, alpha=1., palette='rocket_r', levels=30, multiple=\"fill\") \n",
    "plot_nns(imle_g, data_points, zs, title=f\"IMLE results\")\n"
   ]
  },
  {
   "cell_type": "code",
   "execution_count": null,
   "metadata": {},
   "outputs": [],
   "source": [
    "generated = ada_imle_g(zs).detach().numpy()\n",
    "data = pd.DataFrame.from_dict({'x': generated[:, 0], 'y': generated[:, 1]})\n",
    "plt.figure(figsize=(8, 6))\n",
    "plt.ylim(-0.3, 0.4)\n",
    "plt.xlim(-0.35, 0.35)\n",
    "plt.scatter(data_points[:, 0], data_points[:, 1], label=\"Real data points\", color=\"blue\")\n",
    "sns.kdeplot(data=data, fill=True, alpha=1.0, palette='rocket_r', levels=30) \n",
    "plot_nns(ada_imle_g, data_points, zs, title=f\"IMLE results\")\n"
   ]
  }
 ],
 "metadata": {
  "kernelspec": {
   "display_name": "Python 3 (ipykernel)",
   "language": "python",
   "name": "python3"
  },
  "language_info": {
   "codemirror_mode": {
    "name": "ipython",
    "version": 3
   },
   "file_extension": ".py",
   "mimetype": "text/x-python",
   "name": "python",
   "nbconvert_exporter": "python",
   "pygments_lexer": "ipython3",
   "version": "3.8.12"
  }
 },
 "nbformat": 4,
 "nbformat_minor": 4
}
