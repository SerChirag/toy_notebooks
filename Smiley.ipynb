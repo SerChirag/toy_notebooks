{
 "cells": [
  {
   "cell_type": "markdown",
   "metadata": {},
   "source": [
    "## Adaptive IMLE vs Vanilla IMLE\n",
    "In this notebook, we showcase a very basic implementation for [Adaptive IMLE](paper_link) and [Vanilla IMLE](https://arxiv.org/abs/1809.09087) in 2D.\n",
    "\n",
    "While Vanilla IMLE fails to cover all data examples even in this simple situation, Adaptive IMLE covers all data examples showing superior mode-coverage. "
   ]
  },
  {
   "cell_type": "code",
   "execution_count": 1,
   "metadata": {},
   "outputs": [],
   "source": [
    "import os\n",
    "import torch\n",
    "import copy\n",
    "import torch.nn as nn\n",
    "import torch.nn.functional as F\n",
    "import imageio\n",
    "from tqdm import tqdm\n",
    "from matplotlib import pyplot as plt\n",
    "import random\n",
    "import numpy as np\n",
    "import seaborn as sns\n",
    "import pandas as pd\n",
    "\n",
    "\n",
    "seed = 0\n",
    "torch.manual_seed(seed)\n",
    "random.seed(seed)\n",
    "np.random.seed(seed)"
   ]
  },
  {
   "cell_type": "markdown",
   "metadata": {},
   "source": [
    "### Generator\n",
    "Here we define a simple generator consisting of a few fully connected layers. We initial its weight using standard Gaussian."
   ]
  },
  {
   "cell_type": "code",
   "execution_count": 2,
   "metadata": {},
   "outputs": [],
   "source": [
    "def init_weights(m):\n",
    "    def truncated_normal_init(t, mean=0.0, std=0.5):\n",
    "        torch.nn.init.normal_(t, mean=mean, std=std)\n",
    "        while True:\n",
    "            cond = torch.logical_or(t < mean - 2 * std, t > mean + 2 * std)\n",
    "            if not torch.sum(cond):\n",
    "                break\n",
    "            t = torch.where(cond, torch.nn.init.normal_(torch.ones(t.shape), mean=mean, std=std), t)\n",
    "        return t\n",
    "    "
   ]
  },
  {
   "cell_type": "code",
   "execution_count": 3,
   "metadata": {},
   "outputs": [],
   "source": [
    "class Generator(nn.Module):\n",
    "    def __init__(self, n_mlp=5, in_dim=32, out_dim=2, hidden_dim=128):\n",
    "        super().__init__()\n",
    "        assert(n_mlp >= 2)\n",
    "\n",
    "        layers = [nn.Linear(in_dim, hidden_dim), nn.LeakyReLU(0.2)]\n",
    "        for i in range(n_mlp - 2):\n",
    "            layers.append(nn.Linear(hidden_dim, hidden_dim))\n",
    "            layers.append(nn.Sigmoid())\n",
    "        layers.append(nn.Linear(hidden_dim, out_dim))\n",
    "        self.layers = nn.Sequential(*layers)\n",
    "#         self.apply(init_weights)        \n",
    "\n",
    "\n",
    "    def forward(self, latents):\n",
    "        return self.layers(latents)"
   ]
  },
  {
   "cell_type": "code",
   "execution_count": 4,
   "metadata": {},
   "outputs": [],
   "source": [
    "class Generator(nn.Module):\n",
    "    def __init__(self, n_mlp=5, in_dim=32, out_dim=2, hidden_dim=128):\n",
    "        super().__init__()\n",
    "        assert(n_mlp >= 2)\n",
    "\n",
    "        layers = [nn.Linear(in_dim, hidden_dim), nn.LeakyReLU(0.2)]\n",
    "        for i in range(n_mlp - 2):\n",
    "            layers.append(nn.Linear(hidden_dim, hidden_dim))\n",
    "            layers.append(nn.Sigmoid())\n",
    "        layers.append(nn.Linear(hidden_dim, out_dim))\n",
    "        self.layers = nn.Sequential(*layers)\n",
    "#         self.apply(init_weights)        \n",
    "\n",
    "\n",
    "    def forward(self, latents):\n",
    "        return self.layers(latents)"
   ]
  },
  {
   "cell_type": "markdown",
   "metadata": {},
   "source": [
    "### Plotting function\n",
    "We define a simple plotting function to visualize data examples and generated examples."
   ]
  },
  {
   "cell_type": "code",
   "execution_count": 5,
   "metadata": {},
   "outputs": [],
   "source": [
    "def plot_kde(generated, data_points, f_name, title):\n",
    "    plt.clf()\n",
    "    data = pd.DataFrame.from_dict({'x': generated[:, 0], 'y': generated[:, 1]})\n",
    "    plt.figure(figsize=(8, 6))\n",
    "    plt.ylim(-0.3, 0.4)\n",
    "    plt.xlim(-0.35, 0.35)\n",
    "    plt.title(title)\n",
    "    plt.scatter(data_points[:, 0], data_points[:, 1], label=\"Real data points\", color=\"blue\")\n",
    "    sns.kdeplot(data=data, fill=True, levels=200, alpha=0.5, palette=\"rocket_r\") \n",
    "    plt.savefig(f_name)\n",
    "    plt.close()\n",
    "\n",
    "    \n",
    "\n",
    "def plot_nns(g, data_points, zs, selected_z, title=None, f_name=None, arrow=False, vanilla=False):\n",
    "    generated = g(zs).detach()\n",
    "    if(not vanilla):\n",
    "        selected = g(selected_z).detach()\n",
    "    plt.figure(figsize=(8, 6))\n",
    "    # plt.rcParams[\"figure.figsize\"] = [7.50, 3.50]\n",
    "    plt.scatter(data_points[:, 0], data_points[:, 1], label=\"Real data points\", color=\"blue\", marker=\"s\")\n",
    "    plt.scatter(generated[:, 0], generated[:, 1], label=\"Generated samples\", color=\"orange\", alpha=0.4, marker=\".\")\n",
    "    if(not vanilla):\n",
    "        plt.scatter(selected[:, 0], selected[:, 1], label=\"Nearest neighbours\", color=\"red\",marker=\".\")\n",
    "\n",
    "    if arrow:\n",
    "        gen_to_data_vec = data_points - generated\n",
    "        # unit_vecs = gen_to_data_vec / np.linalg.norm(gen_to_data_vec, axis=1)[:, None]\n",
    "        plt.quiver(generated[:, 0], generated[:, 1], 0.19*gen_to_data_vec[:, 0], 0.19*gen_to_data_vec[:, 1],\n",
    "                   color=\"black\", scale_units=\"xy\", angles='xy', scale=0.2, width=0.0015, headwidth=10, headlength=10, label=\"Nearest neighbour vectors\")\n",
    "\n",
    "    plt.legend()\n",
    "    plt.title(title)\n",
    "    plt.ylim(-1.2, 1.2)\n",
    "    plt.xlim(-1.2, 1.2)\n",
    "    if f_name:\n",
    "        plt.savefig(f_name)\n",
    "        plt.close()\n",
    "        #plot_kde(generated, data_points, f_name.replace(\".png\", \"_kde.png\"), title)\n",
    "    else:\n",
    "        plt.show()\n",
    "        \n",
    "\n",
    "def plot_final(g, data_points, zs, selected_z, title=None, f_name=None, arrow=False, vanilla=False):\n",
    "    generated = g(zs).detach()\n",
    "    if(not vanilla):\n",
    "        selected = g(selected_z).detach()\n",
    "    plt.figure(figsize=(8, 6))\n",
    "    # plt.rcParams[\"figure.figsize\"] = [7.50, 3.50]\n",
    "    # plt.scatter(data_points[:, 0], data_points[:, 1], label=\"Real data points\", color=\"blue\", marker=\"s\")\n",
    "    plt.scatter(generated[:, 0], generated[:, 1], label=\"Generated samples\", color=\"orange\", alpha=0.1, marker=\".\")\n",
    "    if(not vanilla):\n",
    "        plt.scatter(selected[:, 0], selected[:, 1], label=\"Nearest neighbours\", color=\"red\",marker=\".\")\n",
    "\n",
    "    if arrow:\n",
    "        gen_to_data_vec = data_points - generated\n",
    "        # unit_vecs = gen_to_data_vec / np.linalg.norm(gen_to_data_vec, axis=1)[:, None]\n",
    "        plt.quiver(generated[:, 0], generated[:, 1], 0.19*gen_to_data_vec[:, 0], 0.19*gen_to_data_vec[:, 1],\n",
    "                   color=\"black\", scale_units=\"xy\", angles='xy', scale=0.2, width=0.0015, headwidth=10, headlength=10, label=\"Nearest neighbour vectors\")\n",
    "\n",
    "    plt.legend()\n",
    "    plt.title(title)\n",
    "    plt.ylim(-1.2, 1.2)\n",
    "    plt.xlim(-1.2, 1.2)\n",
    "    if f_name:\n",
    "        plt.savefig(f_name)\n",
    "        plt.close()\n",
    "        #plot_kde(generated, data_points, f_name.replace(\".png\", \"_kde.png\"), title)\n",
    "    else:\n",
    "        plt.show()"
   ]
  },
  {
   "cell_type": "markdown",
   "metadata": {},
   "source": [
    "### Hyperparameters\n",
    "Here we defined a few hyperparameters."
   ]
  },
  {
   "cell_type": "code",
   "execution_count": 6,
   "metadata": {},
   "outputs": [],
   "source": [
    "zdim = 32  # latent space dimension"
   ]
  },
  {
   "cell_type": "markdown",
   "metadata": {},
   "source": [
    "# Dataset\n",
    "Here we consider some 2D data examples defined by _data\\_points_. We create a generator object and visualize some generated samples."
   ]
  },
  {
   "cell_type": "code",
   "execution_count": 7,
   "metadata": {},
   "outputs": [
    {
     "data": {
      "image/png": "[encoded data removed]",
      "text/plain": [
       "<Figure size 576x432 with 1 Axes>"
      ]
     },
     "metadata": {
      "needs_background": "light"
     },
     "output_type": "display_data"
    }
   ],
   "source": [
    "g = Generator(n_mlp=4, in_dim=zdim, hidden_dim=32)\n",
    "# g = GeneratorLehsun(n_mlp=4, in_dim=zdim)\n",
    "# data_points = torch.tensor([\n",
    "#         [-0.1257,  0.3797],\n",
    "#         [-0.1573,  0.1287],\n",
    "#         [ 0.1076,  0.0971],\n",
    "#         [ 0.1443,  0.1333],\n",
    "#         [-0.1243,  0.1533],\n",
    "#         [-0.0321,  0.1898],\n",
    "#         [ 0.1347, -0.1573],\n",
    "#         [-0.3069,  0.2949],\n",
    "#         [ 0.0202,  0.1158],\n",
    "#         [ 0.3023,  0.3158],\n",
    "#         [ 0.2379, -0.2279],\n",
    "#         [-0.2379, -0.2279],\n",
    "#         [-0.0295,  0.0197],\n",
    "#         [ 0.0853, -0.0708]])\n",
    "\n",
    "data_points = torch.load(\"smiley.pt\")\n",
    "\n",
    "data_points -= torch.mean(data_points, 0)\n",
    "data_points /= torch.tensor([20,10])\n",
    "\n",
    "n = data_points.shape[0]\n",
    "nz = data_points.shape[0]*10  # pool size\n",
    "zs = torch.randn(nz, zdim)\n",
    "\n",
    "plot_nns(g, data_points, zs, None, title=\"Generated samples\", vanilla=True)"
   ]
  },
  {
   "cell_type": "code",
   "execution_count": 8,
   "metadata": {},
   "outputs": [],
   "source": [
    "lr = 0.01  # learning rate\n",
    "epochs = 10000  # number of epochs for training\n",
    "tau=0.85  # tightening threshold defined in the Adaptive IMLE paper\n",
    "noise_coef = 0.000001  # additive noise coeficient\n",
    "staleness = 1000  # staleness for Vanilla IMLE"
   ]
  },
  {
   "cell_type": "markdown",
   "metadata": {},
   "source": [
    "### Nearest Neighbours\n",
    "Here we define a naive function to find nearest neighbour of each data example. This nearest neighbour part can be vastly optimized using [DCI](https://arxiv.org/abs/1703.00440)."
   ]
  },
  {
   "cell_type": "code",
   "execution_count": 9,
   "metadata": {},
   "outputs": [
    {
     "data": {
      "image/png": "[encoded data removed]",
      "text/plain": [
       "<Figure size 576x432 with 1 Axes>"
      ]
     },
     "metadata": {
      "needs_background": "light"
     },
     "output_type": "display_data"
    }
   ],
   "source": [
    "def find_nn(data_point, generated):\n",
    "    dists = torch.sum((generated - data_point)**2, dim=1)\n",
    "    dists = dists**0.5\n",
    "    return torch.argmin(dists).item()\n",
    "\n",
    "def find_nn_new(data_point, generated, limit = 1e-3):\n",
    "    dists = torch.sum((generated - data_point)**2, dim=1)\n",
    "    dists = dists**0.5\n",
    "    to_update = dists < limit\n",
    "    dists[to_update] = np.inf\n",
    "    return torch.argmin(dists).item()\n",
    "\n",
    "def find_nn_k(data_point, generated, k = 3):\n",
    "    dists = torch.sum((generated - data_point)**2, dim=1)\n",
    "    dists = dists**0.5\n",
    "    least_k = torch.topk(dists, k, sorted=True, largest=False)\n",
    "    return least_k.indices[k-1]\n",
    "\n",
    "generated = g(zs).detach()\n",
    "nns = [find_nn(data_points[i], generated) for i in range(n)]\n",
    "\n",
    "plot_nns(g, data_points, zs[nns], None, title=\"Nearest Neighbours\", arrow=True, vanilla=True)"
   ]
  },
  {
   "cell_type": "code",
   "execution_count": null,
   "metadata": {},
   "outputs": [],
   "source": []
  },
  {
   "cell_type": "markdown",
   "metadata": {},
   "source": [
    "### Adaptive IMLE implementation\n",
    "Here we implement a basic version of Adaptive IMLE.\n",
    "The original implementation makes use of several other parts that helps with much faster nearest neighbour search, better convergence and faster training. Here we omit these parts just to show case the algorithm and its simplicity.\n",
    "\n",
    "For the original impelementation refer to the [github repo]()."
   ]
  },
  {
   "cell_type": "code",
   "execution_count": 10,
   "metadata": {},
   "outputs": [
    {
     "name": "stderr",
     "output_type": "stream",
     "text": [
      "  0%|          | 0/30000 [00:00<?, ?it/s]\n",
      "\n",
      "KeyboardInterrupt\n",
      "\n"
     ]
    },
    {
     "data": {
      "image/png": "[encoded data removed]",
      "text/plain": [
       "<Figure size 576x432 with 1 Axes>"
      ]
     },
     "metadata": {
      "needs_background": "light"
     },
     "output_type": "display_data"
    }
   ],
   "source": [
    "epochs = 30000\n",
    "nz = data_points.shape[0]*10\n",
    "ada_imle_g = copy.deepcopy(g)\n",
    "optim = torch.optim.Adam(ada_imle_g.parameters(), lr=lr)\n",
    "staleness = 5000\n",
    "ada_imle_nn_z = torch.randn(n, zdim)\n",
    "resample_staleness = 50\n",
    "\n",
    "# ada_imle_nn_z = nn.functional.normalize(ada_imle_nn_z, dim=1)\n",
    "\n",
    "dists = torch.tensor([0.1] * n)\n",
    "prev = dists[:]\n",
    "count = torch.tensor([1] * n)\n",
    "\n",
    "for e in tqdm(range(epochs)):\n",
    "    with torch.no_grad():\n",
    "        dists = torch.sum((ada_imle_g(ada_imle_nn_z) - data_points)**2, dim=1)\n",
    "        to_update_dist = dists < prev * tau\n",
    "        to_update_resample = count >= resample_staleness\n",
    "        \n",
    "        to_update = torch.logical_or(to_update_dist, to_update_resample)\n",
    "\n",
    "        zs = torch.randn(nz, zdim)\n",
    "#         zs = nn.functional.normalize(zs, dim=1)\n",
    "\n",
    "        generated = ada_imle_g(zs).detach()\n",
    "        nns = torch.tensor([find_nn(d, generated) for d in data_points[to_update]], dtype=torch.long)\n",
    "        ada_imle_nn_z[to_update] = zs[nns] + torch.randn(nns.shape[0], zdim) * noise_coef\n",
    "\n",
    "        generated = ada_imle_g(ada_imle_nn_z)\n",
    "        dists = torch.sum((generated - data_points)**2, dim=1)\n",
    "        prev[to_update] = dists[to_update] * tau\n",
    "        # save data as tensor\n",
    "        \n",
    "        if e % staleness == 0:\n",
    "            nz_fake = data_points.shape[0]*10\n",
    "            zs_fake = torch.randn(nz_fake, zdim)\n",
    "#             zs_fake = nn.functional.normalize(zs_fake, dim=1)\n",
    "#             zs_fake *= zdim**0.5\n",
    "            plot_nns(ada_imle_g, data_points, zs_fake, ada_imle_nn_z, title=f\"Epoch {e}\", f_name=f\"plots_new_smiley/ada-epoch-{e}-{nz}.png\", arrow=False)\n",
    "\n",
    "#     ada_imle_nn_z = nn.functional.normalize(ada_imle_nn_z, dim=1)\n",
    "    optim.zero_grad()\n",
    "#     ada_imle_nn_z *= zdim**0.5\n",
    "    outs = ada_imle_g(ada_imle_nn_z)\n",
    "    dists = torch.sum((outs - data_points)**2, dim=0)\n",
    "\n",
    "    loss = dists.mean()\n",
    "    loss.backward()\n",
    "    optim.step()\n",
    "    count[to_update] = 0\n",
    "    count += 1\n",
    "\n",
    "#Saving the training visualizations as GIF\n",
    "with imageio.get_writer(f'plots_new_smiley/adaptive_imle_training-{nz}.gif', mode='I') as writer:\n",
    "    for e in range(0,epochs,staleness):\n",
    "        filename = f\"plots_new_smiley/ada-epoch-{e}-{nz}.png\"\n",
    "        image = imageio.imread(filename)\n",
    "        writer.append_data(image)\n",
    "        #os.remove(filename)\n",
    "\n",
    "nz_fake = data_points.shape[0]*10\n",
    "zs_fake = torch.randn(nz_fake, zdim)\n",
    "# zs_fake = nn.functional.normalize(zs_fake, dim=1)\n",
    "# zs_fake *= zdim**0.5\n",
    "plot_final(ada_imle_g, data_points, zs_fake, None, title=\"AdaIMLE\", f_name=f\"plots_new_smiley/ada-final-{nz}.png\", arrow=False, vanilla=True)\n"
   ]
  },
  {
   "cell_type": "markdown",
   "metadata": {},
   "source": [
    "## IMLE with splatter"
   ]
  },
  {
   "cell_type": "code",
   "execution_count": 44,
   "metadata": {},
   "outputs": [
    {
     "name": "stderr",
     "output_type": "stream",
     "text": [
      "100%|██████████| 100000/100000 [04:40<00:00, 356.19it/s]\n"
     ]
    }
   ],
   "source": [
    "epochs = 100000\n",
    "nz = data_points.shape[0]*10\n",
    "splatter_imle_g = copy.deepcopy(g)\n",
    "optim = torch.optim.Adam(splatter_imle_g.parameters(), lr=lr)\n",
    "plot_staleness = 5000\n",
    "ada_imle_nn_z = torch.randn(n, zdim)\n",
    "# ada_imle_nn_z = nn.functional.normalize(ada_imle_nn_z, dim=1)\n",
    "resample_staleness = 10\n",
    "dists = torch.tensor([0.1] * n)\n",
    "count = torch.tensor([1] * n)\n",
    "prev = dists[:]\n",
    "angle = 1.0\n",
    "angle_distort = torch.deg2rad(torch.tensor(angle))\n",
    "\n",
    "for e in tqdm(range(epochs)):\n",
    "    with torch.no_grad():\n",
    "        dists = torch.sum((splatter_imle_g(ada_imle_nn_z) - data_points)**2, dim=1)\n",
    "        to_update_dist = dists < prev * tau\n",
    "        to_update_resample = count >= resample_staleness\n",
    "        \n",
    "        to_update = torch.logical_or(to_update_dist, to_update_resample)\n",
    "\n",
    "        zs = torch.randn(nz, zdim)\n",
    "#         zs = nn.functional.normalize(zs, dim=1)\n",
    "\n",
    "        generated = splatter_imle_g(zs).detach()\n",
    "        nns = torch.tensor([find_nn(d, generated) for d in data_points[to_update]], dtype=torch.long)\n",
    "        ada_imle_nn_z[to_update] = zs[nns] + torch.randn(nns.shape[0], zdim) * noise_coef\n",
    "\n",
    "        generated = splatter_imle_g(ada_imle_nn_z)\n",
    "        dists = torch.sum((generated - data_points)**2, dim=1)\n",
    "        prev[to_update] = dists[to_update] * tau\n",
    "        # save data as tensor\n",
    "        \n",
    "        if e % plot_staleness == 0:\n",
    "            nz_fake = data_points.shape[0]*10\n",
    "            zs_fake = torch.randn(nz_fake, zdim)\n",
    "#             zs_fake = nn.functional.normalize(zs_fake, dim=1)\n",
    "            plot_final(splatter_imle_g, data_points, zs_fake, None, title=f\"Epoch {e}\", f_name=f\"plots_smiley/ada-splatter-epoch-{e}.png\", arrow=False, vanilla=True)\n",
    "\n",
    "    optim.zero_grad()\n",
    "    \n",
    "    norms = torch.norm(ada_imle_nn_z,dim=1,p=2)\n",
    "    norm_ada_imle_nn_z = nn.functional.normalize(ada_imle_nn_z, dim=1, p=2)\n",
    "      \n",
    "    b = torch.normal(0,1,size=norm_ada_imle_nn_z.shape)\n",
    "    b = nn.functional.normalize(b, dim=1)\n",
    "\n",
    "    w = b - torch.unsqueeze(torch.einsum('ij,ij->i',b,norm_ada_imle_nn_z),-1) * norm_ada_imle_nn_z\n",
    "    w = nn.functional.normalize(w,p=2,dim=-1)\n",
    "\n",
    "    cur_batch_latents = torch.cos(angle_distort) * norm_ada_imle_nn_z + torch.sin(angle_distort) * w\n",
    "    \n",
    "#     print(torch.norm(cur_batch_latents,dim=1))\n",
    "#     print(norms.shape)\n",
    "    cur_batch_latents = cur_batch_latents * norms.view(-1, 1)\n",
    "    \n",
    "    outs = splatter_imle_g(cur_batch_latents)\n",
    "    dists = torch.sum((outs - data_points)**2, dim=0)\n",
    "\n",
    "    loss = dists.mean()\n",
    "    loss.backward()\n",
    "    optim.step()\n",
    "    count[to_update] = 0\n",
    "    count += 1\n",
    "\n",
    "#Saving the training visualizations as GIF\n",
    "\n",
    "\n",
    "# with imageio.get_writer(f'adaptive_imle_training_kde.gif', mode='I') as writer:\n",
    "#     for e in range(0,epochs,staleness):\n",
    "#         filename = f\"plots/ada-epoch-{e}_kde.png\"\n",
    "#         image = imageio.imread(filename)\n",
    "#         writer.append_data(image)\n",
    "#         os.remove(filename)\n",
    "\n",
    "nz_fake = data_points.shape[0]*10\n",
    "zs_fake = torch.randn(nz_fake, zdim)\n",
    "# zs_fake = nn.functional.normalize(zs_fake, dim=1)\n",
    "plot_final(splatter_imle_g, data_points, zs_fake, None, title=\"AdaIMLE\", f_name=f\"plots_smiley/ada-splatter-final-{nz}-{angle}.png\", arrow=False, vanilla=True)\n"
   ]
  },
  {
   "cell_type": "code",
   "execution_count": 13,
   "metadata": {},
   "outputs": [],
   "source": [
    "nz_fake = data_points.shape[0]*10\n",
    "zs_fake = torch.randn(nz_fake, zdim)\n",
    "plot_final(splatter_imle_g, data_points, zs_fake, None, title=\"AdaIMLE\", f_name=f\"plots_new_smiley/splatter-final-{nz}.png\", arrow=False, vanilla=True)\n"
   ]
  },
  {
   "cell_type": "markdown",
   "metadata": {},
   "source": [
    "## K-NN "
   ]
  },
  {
   "cell_type": "code",
   "execution_count": 34,
   "metadata": {},
   "outputs": [
    {
     "name": "stderr",
     "output_type": "stream",
     "text": [
      "  9%|███████████▉                                                                                                                           | 1767/20000 [00:05<00:57, 317.64it/s]\n"
     ]
    },
    {
     "ename": "KeyboardInterrupt",
     "evalue": "",
     "output_type": "error",
     "traceback": [
      "\u001b[0;31m---------------------------------------------------------------------------\u001b[0m",
      "\u001b[0;31mKeyboardInterrupt\u001b[0m                         Traceback (most recent call last)",
      "Cell \u001b[0;32mIn[34], line 17\u001b[0m\n\u001b[1;32m     14\u001b[0m to_update \u001b[38;5;241m=\u001b[39m dists \u001b[38;5;241m<\u001b[39m prev \u001b[38;5;241m*\u001b[39m tau \n\u001b[1;32m     16\u001b[0m zs \u001b[38;5;241m=\u001b[39m torch\u001b[38;5;241m.\u001b[39mrandn(nz, zdim)\n\u001b[0;32m---> 17\u001b[0m generated \u001b[38;5;241m=\u001b[39m \u001b[43mada_imle_g_knn\u001b[49m\u001b[43m(\u001b[49m\u001b[43mzs\u001b[49m\u001b[43m)\u001b[49m\u001b[38;5;241m.\u001b[39mdetach()\n\u001b[1;32m     18\u001b[0m nns \u001b[38;5;241m=\u001b[39m torch\u001b[38;5;241m.\u001b[39mtensor([find_nn_k(d, generated, k\u001b[38;5;241m=\u001b[39mknn) \u001b[38;5;28;01mfor\u001b[39;00m d \u001b[38;5;129;01min\u001b[39;00m data_points[to_update]], dtype\u001b[38;5;241m=\u001b[39mtorch\u001b[38;5;241m.\u001b[39mlong)\n\u001b[1;32m     19\u001b[0m ada_imle_nn_z[to_update] \u001b[38;5;241m=\u001b[39m zs[nns] \u001b[38;5;241m+\u001b[39m torch\u001b[38;5;241m.\u001b[39mrandn(nns\u001b[38;5;241m.\u001b[39mshape[\u001b[38;5;241m0\u001b[39m], zdim) \u001b[38;5;241m*\u001b[39m noise_coef\n",
      "File \u001b[0;32m~/anaconda3/envs/pypi/lib/python3.8/site-packages/torch/nn/modules/module.py:889\u001b[0m, in \u001b[0;36mModule._call_impl\u001b[0;34m(self, *input, **kwargs)\u001b[0m\n\u001b[1;32m    887\u001b[0m     result \u001b[38;5;241m=\u001b[39m \u001b[38;5;28mself\u001b[39m\u001b[38;5;241m.\u001b[39m_slow_forward(\u001b[38;5;241m*\u001b[39m\u001b[38;5;28minput\u001b[39m, \u001b[38;5;241m*\u001b[39m\u001b[38;5;241m*\u001b[39mkwargs)\n\u001b[1;32m    888\u001b[0m \u001b[38;5;28;01melse\u001b[39;00m:\n\u001b[0;32m--> 889\u001b[0m     result \u001b[38;5;241m=\u001b[39m \u001b[38;5;28;43mself\u001b[39;49m\u001b[38;5;241;43m.\u001b[39;49m\u001b[43mforward\u001b[49m\u001b[43m(\u001b[49m\u001b[38;5;241;43m*\u001b[39;49m\u001b[38;5;28;43minput\u001b[39;49m\u001b[43m,\u001b[49m\u001b[43m \u001b[49m\u001b[38;5;241;43m*\u001b[39;49m\u001b[38;5;241;43m*\u001b[39;49m\u001b[43mkwargs\u001b[49m\u001b[43m)\u001b[49m\n\u001b[1;32m    890\u001b[0m \u001b[38;5;28;01mfor\u001b[39;00m hook \u001b[38;5;129;01min\u001b[39;00m itertools\u001b[38;5;241m.\u001b[39mchain(\n\u001b[1;32m    891\u001b[0m         _global_forward_hooks\u001b[38;5;241m.\u001b[39mvalues(),\n\u001b[1;32m    892\u001b[0m         \u001b[38;5;28mself\u001b[39m\u001b[38;5;241m.\u001b[39m_forward_hooks\u001b[38;5;241m.\u001b[39mvalues()):\n\u001b[1;32m    893\u001b[0m     hook_result \u001b[38;5;241m=\u001b[39m hook(\u001b[38;5;28mself\u001b[39m, \u001b[38;5;28minput\u001b[39m, result)\n",
      "Cell \u001b[0;32mIn[3], line 16\u001b[0m, in \u001b[0;36mGenerator.forward\u001b[0;34m(self, latents)\u001b[0m\n\u001b[1;32m     15\u001b[0m \u001b[38;5;28;01mdef\u001b[39;00m \u001b[38;5;21mforward\u001b[39m(\u001b[38;5;28mself\u001b[39m, latents):\n\u001b[0;32m---> 16\u001b[0m     \u001b[38;5;28;01mreturn\u001b[39;00m \u001b[38;5;28;43mself\u001b[39;49m\u001b[38;5;241;43m.\u001b[39;49m\u001b[43mlayers\u001b[49m\u001b[43m(\u001b[49m\u001b[43mlatents\u001b[49m\u001b[43m)\u001b[49m\n",
      "File \u001b[0;32m~/anaconda3/envs/pypi/lib/python3.8/site-packages/torch/nn/modules/module.py:889\u001b[0m, in \u001b[0;36mModule._call_impl\u001b[0;34m(self, *input, **kwargs)\u001b[0m\n\u001b[1;32m    887\u001b[0m     result \u001b[38;5;241m=\u001b[39m \u001b[38;5;28mself\u001b[39m\u001b[38;5;241m.\u001b[39m_slow_forward(\u001b[38;5;241m*\u001b[39m\u001b[38;5;28minput\u001b[39m, \u001b[38;5;241m*\u001b[39m\u001b[38;5;241m*\u001b[39mkwargs)\n\u001b[1;32m    888\u001b[0m \u001b[38;5;28;01melse\u001b[39;00m:\n\u001b[0;32m--> 889\u001b[0m     result \u001b[38;5;241m=\u001b[39m \u001b[38;5;28;43mself\u001b[39;49m\u001b[38;5;241;43m.\u001b[39;49m\u001b[43mforward\u001b[49m\u001b[43m(\u001b[49m\u001b[38;5;241;43m*\u001b[39;49m\u001b[38;5;28;43minput\u001b[39;49m\u001b[43m,\u001b[49m\u001b[43m \u001b[49m\u001b[38;5;241;43m*\u001b[39;49m\u001b[38;5;241;43m*\u001b[39;49m\u001b[43mkwargs\u001b[49m\u001b[43m)\u001b[49m\n\u001b[1;32m    890\u001b[0m \u001b[38;5;28;01mfor\u001b[39;00m hook \u001b[38;5;129;01min\u001b[39;00m itertools\u001b[38;5;241m.\u001b[39mchain(\n\u001b[1;32m    891\u001b[0m         _global_forward_hooks\u001b[38;5;241m.\u001b[39mvalues(),\n\u001b[1;32m    892\u001b[0m         \u001b[38;5;28mself\u001b[39m\u001b[38;5;241m.\u001b[39m_forward_hooks\u001b[38;5;241m.\u001b[39mvalues()):\n\u001b[1;32m    893\u001b[0m     hook_result \u001b[38;5;241m=\u001b[39m hook(\u001b[38;5;28mself\u001b[39m, \u001b[38;5;28minput\u001b[39m, result)\n",
      "File \u001b[0;32m~/anaconda3/envs/pypi/lib/python3.8/site-packages/torch/nn/modules/container.py:119\u001b[0m, in \u001b[0;36mSequential.forward\u001b[0;34m(self, input)\u001b[0m\n\u001b[1;32m    117\u001b[0m \u001b[38;5;28;01mdef\u001b[39;00m \u001b[38;5;21mforward\u001b[39m(\u001b[38;5;28mself\u001b[39m, \u001b[38;5;28minput\u001b[39m):\n\u001b[1;32m    118\u001b[0m     \u001b[38;5;28;01mfor\u001b[39;00m module \u001b[38;5;129;01min\u001b[39;00m \u001b[38;5;28mself\u001b[39m:\n\u001b[0;32m--> 119\u001b[0m         \u001b[38;5;28minput\u001b[39m \u001b[38;5;241m=\u001b[39m module(\u001b[38;5;28minput\u001b[39m)\n\u001b[1;32m    120\u001b[0m     \u001b[38;5;28;01mreturn\u001b[39;00m \u001b[38;5;28minput\u001b[39m\n",
      "\u001b[0;31mKeyboardInterrupt\u001b[0m: "
     ]
    }
   ],
   "source": [
    "epochs = 20000\n",
    "nz = data_points.shape[0]*5\n",
    "ada_imle_g_knn = copy.deepcopy(g)\n",
    "optim = torch.optim.Adam(ada_imle_g_knn.parameters(), lr=lr)\n",
    "\n",
    "ada_imle_nn_z = torch.randn(n, zdim)\n",
    "dists = torch.tensor([0.1] * n)\n",
    "prev = dists[:]\n",
    "knn = 15\n",
    "\n",
    "for e in tqdm(range(epochs)):\n",
    "    with torch.no_grad():\n",
    "        dists = torch.sum((ada_imle_g_knn(ada_imle_nn_z) - data_points)**2, dim=1)\n",
    "        to_update = dists < prev * tau \n",
    "\n",
    "        zs = torch.randn(nz, zdim)\n",
    "        generated = ada_imle_g_knn(zs).detach()\n",
    "        nns = torch.tensor([find_nn_k(d, generated, k=knn) for d in data_points[to_update]], dtype=torch.long)\n",
    "        ada_imle_nn_z[to_update] = zs[nns] + torch.randn(nns.shape[0], zdim) * noise_coef\n",
    "\n",
    "        generated = ada_imle_g_knn(ada_imle_nn_z)\n",
    "        dists = torch.sum((generated - data_points)**2, dim=1)\n",
    "        prev[to_update] = dists[to_update] * tau\n",
    "        # save data as tensor\n",
    "        torch.save(ada_imle_nn_z, f\"data/z-epoch-{e}.pt\")\n",
    "        torch.save(ada_imle_g_knn, f\"data/g-epoch-{e}.pt\")\n",
    "        torch.save(data_points, f\"data/data_points.pt\")\n",
    "        torch.save(prev, f\"data/prev-epoch-{e}.pt\")\n",
    "        if e % staleness == 0:\n",
    "            nz_fake = data_points.shape[0]*10\n",
    "            zs_fake = torch.randn(nz_fake, zdim)\n",
    "            plot_nns(ada_imle_g_knn, data_points, zs_fake, ada_imle_nn_z, title=f\"Epoch {e}\", f_name=f\"plots_smiley/ada-epoch-{knn}-knn-{e}-{nz}.png\", arrow=False)\n",
    "\n",
    "    optim.zero_grad()\n",
    "    outs = ada_imle_g_knn(ada_imle_nn_z)\n",
    "    dists = torch.sum((outs - data_points)**2, dim=0)\n",
    "\n",
    "    loss = dists.mean()\n",
    "    loss.backward()\n",
    "    optim.step()\n",
    "\n",
    "#Saving the training visualizations as GIF\n",
    "with imageio.get_writer(f'plots_smiley/adaptive_imle_{knn}_knn_training-{nz}.gif', mode='I') as writer:\n",
    "    for e in range(0,epochs,staleness):\n",
    "        filename = f\"plots_smiley/ada-epoch-{knn}-knn-{e}-{nz}.png\"\n",
    "        image = imageio.imread(filename)\n",
    "        writer.append_data(image)\n",
    "\n",
    "nz_fake = data_points.shape[0]*10\n",
    "zs_fake = torch.randn(nz_fake, zdim)\n",
    "plot_final(ada_imle_g_knn, data_points, zs_fake, None, title=\"AdaIMLE\", f_name=f\"plots_smiley/ada-knn-{knn}-final-{nz}.png\", arrow=False, vanilla=True)"
   ]
  },
  {
   "cell_type": "markdown",
   "metadata": {},
   "source": [
    "## New distance metric"
   ]
  },
  {
   "cell_type": "code",
   "execution_count": 55,
   "metadata": {},
   "outputs": [
    {
     "name": "stderr",
     "output_type": "stream",
     "text": [
      "100%|██████████████████████████████████████████████████████████████████████████████████████████████████████████████████| 50000/50000 [02:57<00:00, 281.79it/s]\n"
     ]
    }
   ],
   "source": [
    "epochs = 50000\n",
    "ada_imle_g = copy.deepcopy(g)\n",
    "optim = torch.optim.Adam(ada_imle_g.parameters(), lr=lr)\n",
    "plot_staleness = 5000\n",
    "\n",
    "ada_imle_nn_z = torch.randn(n, zdim)\n",
    "dists = torch.tensor([0.1] * n)\n",
    "prev = dists[:]\n",
    "limit_threshold = 1e-2\n",
    "\n",
    "for e in tqdm(range(epochs)):\n",
    "    with torch.no_grad():\n",
    "        dists = torch.sum((ada_imle_g(ada_imle_nn_z) - data_points)**2, dim=1)\n",
    "        to_update = dists < prev * tau \n",
    "\n",
    "        zs = torch.randn(nz, zdim)\n",
    "        generated = ada_imle_g(zs).detach()\n",
    "        nns = torch.tensor([find_nn_new(d, generated, limit=limit_threshold) for d in data_points[to_update]], dtype=torch.long)\n",
    "        ada_imle_nn_z[to_update] = zs[nns] + torch.randn(nns.shape[0], zdim) * noise_coef\n",
    "\n",
    "        generated = ada_imle_g(ada_imle_nn_z)\n",
    "        dists = torch.sum((generated - data_points)**2, dim=1)\n",
    "        prev[to_update] = dists[to_update] * tau\n",
    "        # save data as tensor\n",
    "        if e % plot_staleness == 0:\n",
    "            plot_nns(ada_imle_g, data_points, zs, ada_imle_nn_z, title=f\"Epoch {e}\", f_name=f\"plots_new_smiley/ada-limit-epoch-{e}.png\", arrow=False)\n",
    "\n",
    "\n",
    "    optim.zero_grad()\n",
    "    outs = ada_imle_g(ada_imle_nn_z)\n",
    "    dists = torch.sum((outs - data_points)**2, dim=0)\n",
    "\n",
    "    loss = dists.mean()\n",
    "    loss.backward()\n",
    "    optim.step()\n",
    "\n",
    "#Saving the training visualizations as GIF\n",
    "with imageio.get_writer(f'plots_new_smiley/adaptive_imle_limit_training.gif', mode='I') as writer:\n",
    "    for e in range(0,epochs,plot_staleness):\n",
    "        filename = f\"plots_new_smiley/ada-limit-epoch-{e}.png\"\n",
    "        image = imageio.imread(filename)\n",
    "        writer.append_data(image)\n",
    "        #os.remove(filename)\n",
    "\n",
    "# with imageio.get_writer(f'adaptive_imle_training_kde.gif', mode='I') as writer:\n",
    "#     for e in range(0,epochs,staleness):\n",
    "#         filename = f\"plots/ada-epoch-{e}_kde.png\"\n",
    "#         image = imageio.imread(filename)\n",
    "#         writer.append_data(image)\n",
    "#         os.remove(filename)\n",
    "\n",
    "zs = torch.randn(nz, zdim)\n",
    "plot_final(ada_imle_g, data_points, zs, None, title=\"Ada-IMLE new distance\", f_name=f\"plots_new_smiley/ada-limit-final.png\", arrow=False, vanilla=True)\n"
   ]
  },
  {
   "cell_type": "code",
   "execution_count": 23,
   "metadata": {},
   "outputs": [],
   "source": [
    "def find_nn_improved(data_point, generated, limit = 1e-3,print_results=False):\n",
    "    l2_distances = np.linalg.norm(generated[:, np.newaxis] - data_point , axis=2)\n",
    "    to_exclude = l2_distances < limit\n",
    "    bad_samples_list = np.expand_dims(to_exclude.any(axis=1),-1)\n",
    "    bad_samples_list_repeated = np.tile(bad_samples_list,to_exclude.shape[1])\n",
    "    l2_distances[bad_samples_list_repeated] = np.inf\n",
    "    result = np.argmin(l2_distances,axis=0)\n",
    "    return result\n",
    "\n",
    "def find_nn_new_multi(data_point, generated, limit = 1e-3):\n",
    "    l2_distances = np.linalg.norm(generated[:, np.newaxis] - data_point , axis=2)\n",
    "    to_exclude = l2_distances < limit\n",
    "    l2_distances[to_exclude] = np.inf\n",
    "    result = np.argmin(l2_distances,axis=0)\n",
    "    return result"
   ]
  },
  {
   "cell_type": "markdown",
   "metadata": {},
   "source": [
    "## Improved + splatter"
   ]
  },
  {
   "cell_type": "code",
   "execution_count": 27,
   "metadata": {},
   "outputs": [
    {
     "name": "stderr",
     "output_type": "stream",
     "text": [
      "100%|██████████████████████████████████████████████████████████████████████████████████████████████████████████████████| 50000/50000 [02:42<00:00, 308.18it/s]\n"
     ]
    }
   ],
   "source": [
    "epochs = 50000\n",
    "ada_imle_g = copy.deepcopy(g)\n",
    "optim = torch.optim.Adam(ada_imle_g.parameters(), lr=lr)\n",
    "plot_staleness = 5000\n",
    "\n",
    "angle = 1.0\n",
    "angle_distort = torch.deg2rad(torch.tensor(angle))\n",
    "\n",
    "ada_imle_nn_z = torch.randn(n, zdim)\n",
    "\n",
    "dists = torch.tensor([0.1] * n)\n",
    "prev = dists[:]\n",
    "distance_threshold = 1e-3\n",
    "\n",
    "for e in tqdm(range(epochs)):\n",
    "    with torch.no_grad():\n",
    "#         if(e % 10000 == 0 and e > 0 and distance_threshold < 6e-3):\n",
    "#             distance_threshold += 1e-3\n",
    "#             print(\"Distance threshold is: \",distance_threshold)\n",
    "        dists = torch.sum((ada_imle_g(ada_imle_nn_z) - data_points)**2, dim=1)\n",
    "        to_update = dists < prev * tau \n",
    "\n",
    "        zs = torch.randn(nz, zdim)\n",
    "\n",
    "        generated = ada_imle_g(zs).detach()\n",
    "        nns = torch.tensor(find_nn_improved(data_points[to_update], generated, limit=distance_threshold, print_results=True), dtype=torch.long)\n",
    "        ada_imle_nn_z[to_update] = zs[nns] + torch.randn(nns.shape[0], zdim) * noise_coef\n",
    "\n",
    "        generated = ada_imle_g(ada_imle_nn_z)\n",
    "        dists = torch.sum((generated - data_points)**2, dim=1)\n",
    "        prev[to_update] = dists[to_update] * tau\n",
    "        # save data as tensor\n",
    "        if e % plot_staleness == 0:\n",
    "            nz_fake = data_points.shape[0]*10\n",
    "            zs_fake = torch.randn(nz_fake, zdim)\n",
    "            plot_nns(ada_imle_g, data_points, zs_fake, ada_imle_nn_z, title=f\"Epoch {e}\", f_name=f\"plots_new_smiley/ada-splatter-improved-epoch-{e}.png\", arrow=False)\n",
    "\n",
    "    norms = torch.norm(ada_imle_nn_z,dim=1,p=2)\n",
    "    norm_ada_imle_nn_z = nn.functional.normalize(ada_imle_nn_z, dim=1, p=2)\n",
    "    \n",
    "    b = torch.normal(0,1,size=norm_ada_imle_nn_z.shape)\n",
    "    b = nn.functional.normalize(b, dim=1)\n",
    "\n",
    "    w = b - torch.unsqueeze(torch.einsum('ij,ij->i',b,norm_ada_imle_nn_z),-1) * norm_ada_imle_nn_z\n",
    "    w = nn.functional.normalize(w,p=2,dim=-1)\n",
    "\n",
    "    cur_batch_latents = torch.cos(angle_distort) * norm_ada_imle_nn_z + torch.sin(angle_distort) * w\n",
    "    cur_batch_latents = cur_batch_latents * norms.view(-1, 1)\n",
    "   \n",
    "    optim.zero_grad()\n",
    "    outs = ada_imle_g(cur_batch_latents)\n",
    "    dists = torch.sum((outs - data_points)**2, dim=0)\n",
    "\n",
    "    loss = dists.mean()\n",
    "    loss.backward()\n",
    "    optim.step()\n",
    "\n",
    "#Saving the training visualizations as GIF\n",
    "with imageio.get_writer(f'plots_new_smiley/splatter_imle_improved_training.gif', mode='I') as writer:\n",
    "    for e in range(0,epochs,plot_staleness):\n",
    "        filename = f\"plots_new_smiley/ada-splatter-improved-epoch-{e}.png\"\n",
    "        image = imageio.imread(filename)\n",
    "        writer.append_data(image)\n",
    "        #os.remove(filename)\n",
    "\n",
    "# with imageio.get_writer(f'adaptive_imle_training_kde.gif', mode='I') as writer:\n",
    "#     for e in range(0,epochs,staleness):\n",
    "#         filename = f\"plots/ada-epoch-{e}_kde.png\"\n",
    "#         image = imageio.imread(filename)\n",
    "#         writer.append_data(image)\n",
    "#         os.remove(filename)\n",
    "\n",
    "zs = torch.randn(nz, zdim)\n",
    "plot_final(ada_imle_g, data_points, zs, None, title=\"Ada-IMLE new distance\", f_name=f\"plots_new_smiley/ada-splatter-improved-final.png\", arrow=False, vanilla=True)\n"
   ]
  },
  {
   "cell_type": "markdown",
   "metadata": {},
   "source": [
    "## Improved"
   ]
  },
  {
   "cell_type": "code",
   "execution_count": 11,
   "metadata": {},
   "outputs": [
    {
     "name": "stderr",
     "output_type": "stream",
     "text": [
      "  0%|          | 0/50000 [00:00<?, ?it/s]\n"
     ]
    },
    {
     "ename": "NameError",
     "evalue": "name 'find_nn_improved' is not defined",
     "output_type": "error",
     "traceback": [
      "\u001b[0;31m---------------------------------------------------------------------------\u001b[0m",
      "\u001b[0;31mNameError\u001b[0m                                 Traceback (most recent call last)",
      "Cell \u001b[0;32mIn[11], line 26\u001b[0m\n\u001b[1;32m     24\u001b[0m generated \u001b[38;5;241m=\u001b[39m ada_imle_g(zs)\u001b[38;5;241m.\u001b[39mdetach()\n\u001b[1;32m     25\u001b[0m \u001b[38;5;28;01mif\u001b[39;00m e \u001b[38;5;241m%\u001b[39m plot_staleness \u001b[38;5;241m==\u001b[39m \u001b[38;5;241m0\u001b[39m:\n\u001b[0;32m---> 26\u001b[0m     nns \u001b[38;5;241m=\u001b[39m torch\u001b[38;5;241m.\u001b[39mtensor(\u001b[43mfind_nn_improved\u001b[49m(data_points[to_update], generated, limit\u001b[38;5;241m=\u001b[39mdistance_threshold, print_results\u001b[38;5;241m=\u001b[39m\u001b[38;5;28;01mTrue\u001b[39;00m), dtype\u001b[38;5;241m=\u001b[39mtorch\u001b[38;5;241m.\u001b[39mlong)\n\u001b[1;32m     27\u001b[0m \u001b[38;5;28;01melse\u001b[39;00m:\n\u001b[1;32m     28\u001b[0m     nns \u001b[38;5;241m=\u001b[39m torch\u001b[38;5;241m.\u001b[39mtensor(find_nn_improved(data_points[to_update], generated, limit\u001b[38;5;241m=\u001b[39mdistance_threshold), dtype\u001b[38;5;241m=\u001b[39mtorch\u001b[38;5;241m.\u001b[39mlong)\n",
      "\u001b[0;31mNameError\u001b[0m: name 'find_nn_improved' is not defined"
     ]
    }
   ],
   "source": [
    "epochs = 50000\n",
    "ada_imle_g = copy.deepcopy(g)\n",
    "optim = torch.optim.Adam(ada_imle_g.parameters(), lr=lr)\n",
    "plot_staleness = 5000\n",
    "\n",
    "ada_imle_nn_z = torch.randn(n, zdim)\n",
    "# ada_imle_nn_z = nn.functional.normalize(ada_imle_nn_z, dim=1)\n",
    "\n",
    "dists = torch.tensor([0.1] * n)\n",
    "prev = dists[:]\n",
    "distance_threshold = 1e-3\n",
    "\n",
    "for e in tqdm(range(epochs)):\n",
    "    with torch.no_grad():\n",
    "#         if(e % 10000 == 0 and e > 0 and distance_threshold < 6e-3):\n",
    "#             distance_threshold += 1e-3\n",
    "#             print(\"Distance threshold is: \",distance_threshold)\n",
    "        dists = torch.sum((ada_imle_g(ada_imle_nn_z) - data_points)**2, dim=1)\n",
    "        to_update = dists < prev * tau \n",
    "\n",
    "        zs = torch.randn(nz, zdim)\n",
    "#         zs = nn.functional.normalize(zs, dim=1)\n",
    "\n",
    "        generated = ada_imle_g(zs).detach()\n",
    "        if e % plot_staleness == 0:\n",
    "            nns = torch.tensor(find_nn_improved(data_points[to_update], generated, limit=distance_threshold, print_results=True), dtype=torch.long)\n",
    "        else:\n",
    "            nns = torch.tensor(find_nn_improved(data_points[to_update], generated, limit=distance_threshold), dtype=torch.long)\n",
    "        ada_imle_nn_z[to_update] = zs[nns] + torch.randn(nns.shape[0], zdim) * noise_coef\n",
    "\n",
    "        generated = ada_imle_g(ada_imle_nn_z)\n",
    "        dists = torch.sum((generated - data_points)**2, dim=1)\n",
    "        prev[to_update] = dists[to_update] * tau\n",
    "        if e % plot_staleness == 0:\n",
    "            nz_fake = data_points.shape[0]*10\n",
    "            zs_fake = torch.randn(nz_fake, zdim)\n",
    "            plot_nns(ada_imle_g, data_points, zs_fake, ada_imle_nn_z, title=f\"Epoch {e}\", f_name=f\"plots_new_smiley/ada-improved-epoch-{e}.png\", arrow=False)\n",
    "\n",
    "\n",
    "    optim.zero_grad()\n",
    "    outs = ada_imle_g(ada_imle_nn_z)\n",
    "    dists = torch.sum((outs - data_points)**2, dim=0)\n",
    "\n",
    "    loss = dists.mean()\n",
    "    loss.backward()\n",
    "    optim.step()\n",
    "\n",
    "#Saving the training visualizations as GIF\n",
    "with imageio.get_writer(f'plots_new_smiley/adaptive_imle_improved_training.gif', mode='I') as writer:\n",
    "    for e in range(0,epochs,plot_staleness):\n",
    "        filename = f\"plots_new_smiley/ada-improved-epoch-{e}.png\"\n",
    "        image = imageio.imread(filename)\n",
    "        writer.append_data(image)\n",
    "        #os.remove(filename)\n",
    "\n",
    "# with imageio.get_writer(f'adaptive_imle_training_kde.gif', mode='I') as writer:\n",
    "#     for e in range(0,epochs,staleness):\n",
    "#         filename = f\"plots/ada-epoch-{e}_kde.png\"\n",
    "#         image = imageio.imread(filename)\n",
    "#         writer.append_data(image)\n",
    "#         os.remove(filename)\n",
    "\n",
    "zs = torch.randn(nz, zdim)\n",
    "# zs = nn.functional.normalize(zs, dim=1)\n",
    "\n",
    "plot_final(ada_imle_g, data_points, zs, None, title=\"Ada-IMLE new distance\", f_name=f\"plots_new_smiley/ada-improved-final.png\", arrow=False, vanilla=True)\n"
   ]
  },
  {
   "cell_type": "markdown",
   "metadata": {},
   "source": [
    "## Variable stuff"
   ]
  },
  {
   "cell_type": "code",
   "execution_count": 28,
   "metadata": {},
   "outputs": [
    {
     "name": "stderr",
     "output_type": "stream",
     "text": [
      "100%|████████████████████████████████████████████████████████████████████████████████████████████████████████████████| 20000/20000 [00:59<00:00, 337.02it/s]\n"
     ]
    }
   ],
   "source": [
    "epochs = 20000\n",
    "var_staleness = 200\n",
    "ada_imle_g_var = copy.deepcopy(g)\n",
    "optim = torch.optim.Adam(ada_imle_g_var.parameters(), lr=lr)\n",
    "nz = data_points.shape[0]*10\n",
    "ada_imle_nn_z = torch.randn(n, zdim)\n",
    "dists = torch.tensor([0.1] * n)\n",
    "prev = dists[:]\n",
    "nz_temp = nz\n",
    "\n",
    "for e in tqdm(range(epochs)):\n",
    "    \n",
    "    with torch.no_grad():\n",
    "        dists = torch.sum((ada_imle_g_var(ada_imle_nn_z) - data_points)**2, dim=1)\n",
    "        to_update = dists < prev * tau \n",
    "\n",
    "        zs = torch.randn(nz_temp, zdim)\n",
    "        generated = ada_imle_g_var(zs).detach()\n",
    "        nns = torch.tensor([find_nn(d, generated) for d in data_points[to_update]], dtype=torch.long)\n",
    "        ada_imle_nn_z[to_update] = zs[nns] + torch.randn(nns.shape[0], zdim) * noise_coef\n",
    "\n",
    "        generated = ada_imle_g_var(ada_imle_nn_z)\n",
    "        dists = torch.sum((generated - data_points)**2, dim=1)\n",
    "        prev[to_update] = dists[to_update] * tau\n",
    "        # save data as tensor\n",
    "        torch.save(ada_imle_nn_z, f\"data/z-epoch-{e}.pt\")\n",
    "        torch.save(ada_imle_g_var, f\"data/g-epoch-{e}.pt\")\n",
    "        torch.save(data_points, f\"data/data_points.pt\")\n",
    "        torch.save(prev, f\"data/prev-epoch-{e}.pt\")\n",
    "        percentage_completed = e/epochs\n",
    "        if e % staleness == 0:\n",
    "            zs_fake = torch.randn(nz, zdim)\n",
    "            plot_nns(ada_imle_g_var, data_points, zs_fake, ada_imle_nn_z, title=f\"Epoch {e}\", f_name=f\"plots_smiley/ada-var-epoch-{e}.png\", arrow=False)\n",
    "        if e % var_staleness == 0:\n",
    "            nz_temp = nz\n",
    "        if (percentage_completed >= 0.85):\n",
    "            nz_temp = nz\n",
    "        if (percentage_completed < 0.85 and e % 5 == 0 and nz_temp > data_points.shape[0]):\n",
    "            nz_temp -= data_points.shape[0]\n",
    "        \n",
    "\n",
    "    optim.zero_grad()\n",
    "    outs = ada_imle_g_var(ada_imle_nn_z)\n",
    "    dists = torch.sum((outs - data_points)**2, dim=0)\n",
    "\n",
    "    loss = dists.mean()\n",
    "    loss.backward()\n",
    "    optim.step()\n",
    "\n",
    "#Saving the training visualizations as GIF\n",
    "with imageio.get_writer(f'plots_smiley/adaptive_imle_var_training.gif', mode='I') as writer:\n",
    "    for e in range(0,epochs,staleness):\n",
    "        filename = f\"plots_smiley/ada-var-epoch-{e}.png\"\n",
    "        image = imageio.imread(filename)\n",
    "        writer.append_data(image)\n",
    "        #os.remove(filename)\n",
    "\n",
    "        \n",
    "zs = torch.randn(nz, zdim)\n",
    "plot_nns(ada_imle_g_var, data_points, zs, None, title=\"Ada-IMLE variable\", f_name=f\"plots_smiley/ada-var-final.png\", arrow=False, vanilla=True)\n",
    "\n",
    "# with imageio.get_writer(f'adaptive_imle_training_kde.gif', mode='I') as writer:\n",
    "#     for e in range(0,epochs,staleness):\n",
    "#         filename = f\"plots/ada-epoch-{e}_kde.png\"\n",
    "#         image = imageio.imread(filename)\n",
    "#         writer.append_data(image)\n",
    "#         os.remove(filename)"
   ]
  },
  {
   "cell_type": "code",
   "execution_count": 38,
   "metadata": {},
   "outputs": [],
   "source": [
    "# # you can ignore this part\n",
    "# # just plotting kde\n",
    "\n",
    "# interval = 10\n",
    "# to_save = list(range(0, epochs, interval)) + [epochs - 1]\n",
    "# print(to_save)\n",
    "# for e in to_save:\n",
    "#     zs = torch.load(f\"data/z-epoch-{e}.pt\")\n",
    "#     gs = torch.load(f\"data/g-epoch-{e}.pt\")\n",
    "#     data_points = torch.load(f\"data/data_points.pt\")\n",
    "#     plot_kde(gs(zs).detach(), data_points, f\"plots/epoch-{e}_kde.png\", f\"Epoch {e}\")\n",
    "\n",
    "# with imageio.get_writer(f'adaptive_imle_training_kde.gif', mode='I') as writer:\n",
    "#     # every 10\n",
    "#     for e in range(0, epochs, 10):\n",
    "#         filename = f\"plots/epoch-{e}_kde.png\"\n",
    "#         image = imageio.imread(filename)\n",
    "#         writer.append_data(image)\n",
    "#         writer.append_data(image)\n",
    "#     for i in range(10):\n",
    "#         filename = f\"plots/epoch-{epochs - 1}_kde.png\"\n",
    "#         image = imageio.imread(filename)\n",
    "#         writer.append_data(image)"
   ]
  },
  {
   "cell_type": "code",
   "execution_count": 11,
   "metadata": {},
   "outputs": [],
   "source": [
    "# # you can ignore this part\n",
    "# # just ploting the neighbourhood shrinking process\n",
    "\n",
    "# from utils import circles\n",
    "# from numpy import arange\n",
    "# def plot_with_circles(g, data_points, zs, prev, title=None, f_name=None, arrow=False):\n",
    "#     plt.clf()\n",
    "#     generated = g(zs).detach()\n",
    "#     plt.figure(figsize=(8, 8))\n",
    "#     # plt.rcParams[\"figure.figsize\"] = [7.50, 3.50]\n",
    "#     plt.scatter(data_points[:, 0], data_points[:, 1], label=\"Real data points\", color=\"blue\")\n",
    "#     plt.scatter(generated[:, 0], generated[:, 1], label=\"Nearest neighbours\", color=\"red\")\n",
    "#     radius = np.sqrt(prev)\n",
    "#     # outer_radius = np.sqrt(prev / tau)\n",
    "#     outer_radius = radius / tau\n",
    "#     # circles(data_points[:, 0], data_points[:, 1], radius, color=\"green\", alpha=0.1)\n",
    "#     for i in range(len(data_points)):\n",
    "#         circles(data_points[i, 0], data_points[i, 1], radius[i], color=\"green\", alpha=0.1)\n",
    "#         circles(data_points[i, 0], data_points[i, 1], outer_radius[i], color=\"green\", alpha=0.05, ec='black')\n",
    "#     if arrow:\n",
    "#         gen_to_data_vec = data_points - generated\n",
    "#         # unit_vecs = gen_to_data_vec / np.linalg.norm(gen_to_data_vec, axis=1)[:, None]\n",
    "#         plt.quiver(generated[:, 0], generated[:, 1], 0.19*gen_to_data_vec[:, 0], 0.19*gen_to_data_vec[:, 1], alpha=0.5,\n",
    "#                    color=\"black\", scale_units=\"xy\", angles='xy', scale=0.2, width=0.0015, headwidth=10, headlength=10, label=\"Nearest neighbour vectors\")\n",
    "\n",
    "#     plt.legend()\n",
    "#     plt.title(title)\n",
    "#     plt.ylim(-0.3, 0.4)\n",
    "#     plt.xlim(-0.35, 0.35)\n",
    "#     plt.savefig(f_name)\n",
    "#     plt.close()\n",
    "\n",
    "# interval = 10\n",
    "# to_save = list(range(0, epochs, interval)) + [epochs - 1]\n",
    "# prev_0 = torch.load(f\"data/prev-epoch-0.pt\")\n",
    "# for e in to_save:\n",
    "#     zs = torch.load(f\"data/z-epoch-{e}.pt\")\n",
    "#     gs = torch.load(f\"data/g-epoch-{e}.pt\")\n",
    "#     data_points = torch.load(f\"data/data_points.pt\")\n",
    "#     prev = torch.load(f\"data/prev-epoch-{e}.pt\")\n",
    "#     # prev = torch.min(prev, prev_0)\n",
    "#     plot_with_circles(gs, data_points, zs, prev, title=f\"Epoch {e}\", f_name=f\"plots2/epoch-{e}.png\", arrow=True)\n",
    "#     plot_kde(gs(zs).detach(), data_points, f\"plots/epoch-{e}_kde.png\", f\"Epoch {e}\")\n",
    "\n",
    "# # save gif\n",
    "# with imageio.get_writer(f'adaptive_imle_training.gif', mode='I') as writer:\n",
    "#     for e in range(0, epochs, interval):\n",
    "#         filename = f\"plots2/epoch-{e}.png\"\n",
    "#         image = imageio.imread(filename)\n",
    "#         writer.append_data(image)\n",
    "#     filename = f\"plots2/epoch-299.png\"\n",
    "#     image = imageio.imread(filename)\n",
    "#     for i in range(20):\n",
    "#         writer.append_data(image)"
   ]
  },
  {
   "cell_type": "markdown",
   "metadata": {},
   "source": [
    "### Vanilla IMLE implementation\n",
    "Here we implement a basic version of Vanilla IMLE."
   ]
  },
  {
   "cell_type": "code",
   "execution_count": 12,
   "metadata": {},
   "outputs": [
    {
     "name": "stderr",
     "output_type": "stream",
     "text": [
      "  7%|▋         | 2099/30000 [00:14<03:10, 146.77it/s]\n"
     ]
    },
    {
     "ename": "KeyboardInterrupt",
     "evalue": "",
     "output_type": "error",
     "traceback": [
      "\u001b[0;31m---------------------------------------------------------------------------\u001b[0m",
      "\u001b[0;31mKeyboardInterrupt\u001b[0m                         Traceback (most recent call last)",
      "Input \u001b[0;32mIn [12]\u001b[0m, in \u001b[0;36m<cell line: 10>\u001b[0;34m()\u001b[0m\n\u001b[1;32m     23\u001b[0m     dists \u001b[38;5;241m=\u001b[39m torch\u001b[38;5;241m.\u001b[39msum((outs \u001b[38;5;241m-\u001b[39m data_points)\u001b[38;5;241m*\u001b[39m\u001b[38;5;241m*\u001b[39m\u001b[38;5;241m2\u001b[39m, dim\u001b[38;5;241m=\u001b[39m\u001b[38;5;241m1\u001b[39m)\n\u001b[1;32m     25\u001b[0m     loss \u001b[38;5;241m=\u001b[39m dists\u001b[38;5;241m.\u001b[39mmean()\n\u001b[0;32m---> 26\u001b[0m     \u001b[43mloss\u001b[49m\u001b[38;5;241;43m.\u001b[39;49m\u001b[43mbackward\u001b[49m\u001b[43m(\u001b[49m\u001b[43m)\u001b[49m\n\u001b[1;32m     27\u001b[0m     optim\u001b[38;5;241m.\u001b[39mstep()\n\u001b[1;32m     31\u001b[0m nz_fake \u001b[38;5;241m=\u001b[39m data_points\u001b[38;5;241m.\u001b[39mshape[\u001b[38;5;241m0\u001b[39m]\u001b[38;5;241m*\u001b[39m\u001b[38;5;241m10\u001b[39m\n",
      "File \u001b[0;32m~/anaconda3/envs/vdimle/lib/python3.8/site-packages/torch/_tensor.py:487\u001b[0m, in \u001b[0;36mTensor.backward\u001b[0;34m(self, gradient, retain_graph, create_graph, inputs)\u001b[0m\n\u001b[1;32m    477\u001b[0m \u001b[38;5;28;01mif\u001b[39;00m has_torch_function_unary(\u001b[38;5;28mself\u001b[39m):\n\u001b[1;32m    478\u001b[0m     \u001b[38;5;28;01mreturn\u001b[39;00m handle_torch_function(\n\u001b[1;32m    479\u001b[0m         Tensor\u001b[38;5;241m.\u001b[39mbackward,\n\u001b[1;32m    480\u001b[0m         (\u001b[38;5;28mself\u001b[39m,),\n\u001b[0;32m   (...)\u001b[0m\n\u001b[1;32m    485\u001b[0m         inputs\u001b[38;5;241m=\u001b[39minputs,\n\u001b[1;32m    486\u001b[0m     )\n\u001b[0;32m--> 487\u001b[0m \u001b[43mtorch\u001b[49m\u001b[38;5;241;43m.\u001b[39;49m\u001b[43mautograd\u001b[49m\u001b[38;5;241;43m.\u001b[39;49m\u001b[43mbackward\u001b[49m\u001b[43m(\u001b[49m\n\u001b[1;32m    488\u001b[0m \u001b[43m    \u001b[49m\u001b[38;5;28;43mself\u001b[39;49m\u001b[43m,\u001b[49m\u001b[43m \u001b[49m\u001b[43mgradient\u001b[49m\u001b[43m,\u001b[49m\u001b[43m \u001b[49m\u001b[43mretain_graph\u001b[49m\u001b[43m,\u001b[49m\u001b[43m \u001b[49m\u001b[43mcreate_graph\u001b[49m\u001b[43m,\u001b[49m\u001b[43m \u001b[49m\u001b[43minputs\u001b[49m\u001b[38;5;241;43m=\u001b[39;49m\u001b[43minputs\u001b[49m\n\u001b[1;32m    489\u001b[0m \u001b[43m\u001b[49m\u001b[43m)\u001b[49m\n",
      "File \u001b[0;32m~/anaconda3/envs/vdimle/lib/python3.8/site-packages/torch/autograd/__init__.py:200\u001b[0m, in \u001b[0;36mbackward\u001b[0;34m(tensors, grad_tensors, retain_graph, create_graph, grad_variables, inputs)\u001b[0m\n\u001b[1;32m    195\u001b[0m     retain_graph \u001b[38;5;241m=\u001b[39m create_graph\n\u001b[1;32m    197\u001b[0m \u001b[38;5;66;03m# The reason we repeat same the comment below is that\u001b[39;00m\n\u001b[1;32m    198\u001b[0m \u001b[38;5;66;03m# some Python versions print out the first line of a multi-line function\u001b[39;00m\n\u001b[1;32m    199\u001b[0m \u001b[38;5;66;03m# calls in the traceback and some print out the last line\u001b[39;00m\n\u001b[0;32m--> 200\u001b[0m \u001b[43mVariable\u001b[49m\u001b[38;5;241;43m.\u001b[39;49m\u001b[43m_execution_engine\u001b[49m\u001b[38;5;241;43m.\u001b[39;49m\u001b[43mrun_backward\u001b[49m\u001b[43m(\u001b[49m\u001b[43m  \u001b[49m\u001b[38;5;66;43;03m# Calls into the C++ engine to run the backward pass\u001b[39;49;00m\n\u001b[1;32m    201\u001b[0m \u001b[43m    \u001b[49m\u001b[43mtensors\u001b[49m\u001b[43m,\u001b[49m\u001b[43m \u001b[49m\u001b[43mgrad_tensors_\u001b[49m\u001b[43m,\u001b[49m\u001b[43m \u001b[49m\u001b[43mretain_graph\u001b[49m\u001b[43m,\u001b[49m\u001b[43m \u001b[49m\u001b[43mcreate_graph\u001b[49m\u001b[43m,\u001b[49m\u001b[43m \u001b[49m\u001b[43minputs\u001b[49m\u001b[43m,\u001b[49m\n\u001b[1;32m    202\u001b[0m \u001b[43m    \u001b[49m\u001b[43mallow_unreachable\u001b[49m\u001b[38;5;241;43m=\u001b[39;49m\u001b[38;5;28;43;01mTrue\u001b[39;49;00m\u001b[43m,\u001b[49m\u001b[43m \u001b[49m\u001b[43maccumulate_grad\u001b[49m\u001b[38;5;241;43m=\u001b[39;49m\u001b[38;5;28;43;01mTrue\u001b[39;49;00m\u001b[43m)\u001b[49m\n",
      "\u001b[0;31mKeyboardInterrupt\u001b[0m: "
     ]
    }
   ],
   "source": [
    "imle_g = copy.deepcopy(g)\n",
    "optim = torch.optim.Adam(imle_g.parameters(), lr=lr)\n",
    "imle_nn_z = torch.randn(n, zdim)\n",
    "epochs = 30000\n",
    "staleness = 20\n",
    "plot_staleness = 5000\n",
    "nz = data_points.shape[0]*10\n",
    "\n",
    "\n",
    "for e in tqdm(range(epochs)):\n",
    "    with torch.no_grad():\n",
    "        if e % staleness == 0:\n",
    "            zs = torch.randn(nz, zdim)\n",
    "            generated = imle_g(zs).detach()\n",
    "            nns = torch.tensor([find_nn(d, generated) for d in data_points], dtype=torch.long)\n",
    "            imle_nn_z = zs[nns] + torch.randn(nns.shape[0], zdim) * noise_coef\n",
    "        if e % plot_staleness == 0:\n",
    "            plot_final(imle_g, data_points, zs, None, title=f\"Epoch {e}\", f_name=f\"plots_smiley/epoch-{e}.png\", arrow=False, vanilla=True)\n",
    "\n",
    "    optim.zero_grad()\n",
    "    outs = imle_g(imle_nn_z)\n",
    "    # dists = torch.sqrt(torch.sum((outs - data_points)**2, dim=1))\n",
    "    dists = torch.sum((outs - data_points)**2, dim=1)\n",
    "\n",
    "    loss = dists.mean()\n",
    "    loss.backward()\n",
    "    optim.step()\n",
    "\n",
    "\n",
    "\n",
    "nz_fake = data_points.shape[0]*10\n",
    "zs = torch.randn(nz_fake, zdim)\n",
    "plot_final(imle_g, data_points, zs, None, title=\"Vanilla IMLE new distance\", f_name=f\"plots_smiley/imle-final-{staleness}.png\", arrow=False, vanilla=True)\n",
    "\n",
    "\n",
    "# with imageio.get_writer(f'imle_training_kde.gif', mode='I') as writer:\n",
    "#     for e in range(0,epochs,staleness):\n",
    "#         filename = f\"plots/epoch-{e}_kde.png\"\n",
    "#         image = imageio.imread(filename)\n",
    "#         writer.append_data(image)\n",
    "#         os.remove(filename)"
   ]
  },
  {
   "cell_type": "markdown",
   "metadata": {},
   "source": [
    "## Improved Distance"
   ]
  },
  {
   "cell_type": "code",
   "execution_count": 63,
   "metadata": {},
   "outputs": [],
   "source": [
    "def find_nn_improved(data_point, generated, limit = 1e-3,print_results=False):\n",
    "    l2_distances = np.linalg.norm(generated[:, np.newaxis] - data_point , axis=2)\n",
    "    l2_distances = l2_distances**2\n",
    "    to_exclude = l2_distances < limit\n",
    "    bad_samples_list = np.expand_dims(to_exclude.any(axis=1),-1)\n",
    "    bad_samples_list_repeated = np.tile(bad_samples_list,to_exclude.shape[1])\n",
    "    l2_distances[bad_samples_list_repeated] = np.inf\n",
    "    result = np.argmin(l2_distances,axis=0)\n",
    "    return result"
   ]
  },
  {
   "cell_type": "code",
   "execution_count": 74,
   "metadata": {},
   "outputs": [
    {
     "name": "stderr",
     "output_type": "stream",
     "text": [
      "  1%|          | 159/30000 [00:00<00:34, 873.43it/s]"
     ]
    },
    {
     "name": "stdout",
     "output_type": "stream",
     "text": [
      "0.0001\n"
     ]
    },
    {
     "name": "stderr",
     "output_type": "stream",
     "text": [
      " 17%|█▋        | 5044/30000 [00:04<00:24, 1039.30it/s]"
     ]
    },
    {
     "name": "stdout",
     "output_type": "stream",
     "text": [
      "0.0001\n"
     ]
    },
    {
     "name": "stderr",
     "output_type": "stream",
     "text": [
      " 34%|███▎      | 10098/30000 [00:08<00:19, 1033.85it/s]"
     ]
    },
    {
     "name": "stdout",
     "output_type": "stream",
     "text": [
      "0.0001\n"
     ]
    },
    {
     "name": "stderr",
     "output_type": "stream",
     "text": [
      " 50%|████▉     | 14985/30000 [00:12<00:12, 1192.52it/s]"
     ]
    },
    {
     "name": "stdout",
     "output_type": "stream",
     "text": [
      "0.0001\n"
     ]
    },
    {
     "name": "stderr",
     "output_type": "stream",
     "text": [
      " 67%|██████▋   | 20132/30000 [00:16<00:09, 987.86it/s] "
     ]
    },
    {
     "name": "stdout",
     "output_type": "stream",
     "text": [
      "0.0001\n"
     ]
    },
    {
     "name": "stderr",
     "output_type": "stream",
     "text": [
      " 83%|████████▎ | 25013/30000 [00:21<00:05, 890.75it/s] "
     ]
    },
    {
     "name": "stdout",
     "output_type": "stream",
     "text": [
      "0.0001\n"
     ]
    },
    {
     "name": "stderr",
     "output_type": "stream",
     "text": [
      "100%|██████████| 30000/30000 [00:25<00:00, 1188.64it/s]\n"
     ]
    }
   ],
   "source": [
    "improved_imle_g = copy.deepcopy(g)\n",
    "optim = torch.optim.Adam(improved_imle_g.parameters(), lr=lr)\n",
    "imle_nn_z = torch.randn(n, zdim)\n",
    "epochs = 30000\n",
    "staleness = 20\n",
    "plot_staleness = 5000\n",
    "factor = 10 \n",
    "nz = data_points.shape[0]*factor\n",
    "distance_threshold = 1e-4\n",
    "\n",
    "for e in tqdm(range(epochs)):\n",
    "    with torch.no_grad():\n",
    "        # distance_threshold = max(1e-3, distance_threshold * 0.99999)\n",
    "        if e % staleness == 0:\n",
    "            zs = torch.randn(nz, zdim)\n",
    "            generated = improved_imle_g(zs).detach()\n",
    "            nns = torch.tensor(find_nn_improved(data_points, generated, limit=distance_threshold), dtype=torch.long)\n",
    "            imle_nn_z = zs[nns] + torch.randn(nns.shape[0], zdim) * noise_coef\n",
    "\n",
    "        if e % plot_staleness == 0:\n",
    "            print(distance_threshold)\n",
    "            plot_final(improved_imle_g, data_points, zs, None, title=f\"Epoch {e}\", f_name=f\"plots_smiley/improved-epoch-{e}.png\", arrow=False, vanilla=True)\n",
    "\n",
    "    optim.zero_grad()\n",
    "    outs = improved_imle_g(imle_nn_z)\n",
    "    # dists = torch.sqrt(torch.sum((outs - data_points)**2, dim=1))\n",
    "    dists = torch.sum((outs - data_points)**2, dim=1)\n",
    "    loss = dists.mean()\n",
    "    loss.backward()\n",
    "    optim.step()\n",
    "\n",
    "\n",
    "\n",
    "nz_fake = data_points.shape[0]*10\n",
    "zs = torch.randn(nz_fake, zdim)\n",
    "plot_final(improved_imle_g, data_points, zs, None, title=\"Improved IMLE new distance\", f_name=f\"plots_smiley/improved-imle-final-{staleness}-{distance_threshold}.png\", arrow=False, vanilla=True)\n"
   ]
  },
  {
   "cell_type": "markdown",
   "metadata": {},
   "source": [
    "## New improved"
   ]
  },
  {
   "cell_type": "code",
   "execution_count": 73,
   "metadata": {},
   "outputs": [
    {
     "name": "stderr",
     "output_type": "stream",
     "text": [
      "100%|██████████| 30000/30000 [00:25<00:00, 1168.77it/s]\n"
     ]
    }
   ],
   "source": [
    "improved_imle_g = copy.deepcopy(g)\n",
    "optim = torch.optim.Adam(improved_imle_g.parameters(), lr=lr)\n",
    "imle_nn_z = torch.randn(n, zdim)\n",
    "epochs = 30000\n",
    "staleness = 20\n",
    "plot_staleness = 5000\n",
    "factor = 10 \n",
    "nz = data_points.shape[0]*factor\n",
    "distance_threshold = 1e-4\n",
    "\n",
    "for e in tqdm(range(epochs)):\n",
    "    with torch.no_grad():\n",
    "        # distance_threshold = max(1e-3, distance_threshold * 0.99999)\n",
    "        if e % staleness == 0:\n",
    "            zs = torch.randn(nz, zdim)\n",
    "            generated = improved_imle_g(zs).detach()\n",
    "            nns = torch.tensor(find_nn_improved(data_points, generated, limit=distance_threshold), dtype=torch.long)\n",
    "            imle_nn_z = zs[nns] + torch.randn(nns.shape[0], zdim) * noise_coef\n",
    "\n",
    "        if e % plot_staleness == 0:\n",
    "            # print(distance_threshold)\n",
    "            plot_final(improved_imle_g, data_points, zs, None, title=f\"Epoch {e}\", f_name=f\"plots_smiley/limit-improved-epoch-{e}.png\", arrow=False, vanilla=True)\n",
    "\n",
    "    optim.zero_grad()\n",
    "    outs = improved_imle_g(imle_nn_z)\n",
    "    intermediate = (outs - data_points)**2\n",
    "    zeros = torch.zeros_like(intermediate)\n",
    "    intermediate = torch.where(intermediate > distance_threshold, intermediate, zeros)\n",
    "    dists = torch.sum(intermediate, dim=1)\n",
    "    loss = dists.mean()\n",
    "    loss.backward()\n",
    "    optim.step()\n",
    "\n",
    "nz_fake = data_points.shape[0]*10\n",
    "zs = torch.randn(nz_fake, zdim)\n",
    "plot_final(improved_imle_g, data_points, zs, None, title=\"Improved IMLE new distance\", f_name=f\"plots_smiley/limit-improved-imle-final-{staleness}-{distance_threshold}.png\", arrow=False, vanilla=True)\n"
   ]
  },
  {
   "cell_type": "markdown",
   "metadata": {},
   "source": [
    "### Visualizing results\n",
    "Here we visualize nearest neighbour of each data example among randomly generated samples after training. We can see that Vanilla IMLE fails to cover the left-most and right-most data examples while Adaptive IMLE succeeds in covering all data examples the same."
   ]
  },
  {
   "cell_type": "code",
   "execution_count": null,
   "metadata": {},
   "outputs": [],
   "source": [
    "nz = 500  # number of generated samples\n",
    "\n",
    "zs = torch.randn(nz, zdim)\n",
    "generated = ada_imle_g(zs).detach()\n",
    "nns = [find_nn(data_points[i], generated) for i in range(n)]\n",
    "plot_nns(ada_imle_g, data_points, zs[nns], title=f\"Adaptive IMLE results\", arrow=True)\n",
    "\n",
    "generated = imle_g(zs).detach()\n",
    "nns = [find_nn(data_points[i], generated) for i in range(n)]\n",
    "plot_nns(imle_g, data_points, zs[nns], title=f\"IMLE results\", arrow=True)"
   ]
  },
  {
   "cell_type": "code",
   "execution_count": null,
   "metadata": {},
   "outputs": [],
   "source": [
    "# generated = generated.detach().numpy()\n",
    "# sns.kdeplot(data={'x': generated[:, 0], 'y': generated[:, 1]}, x=\"x\", y=\"y\", fill=True, alpha=1., cmap='rocket_r', levels=30) \n",
    "generated = imle_g(zs).detach().numpy()\n",
    "data = pd.DataFrame.from_dict({'x': generated[:, 0], 'y': generated[:, 1]})\n",
    "plt.figure(figsize=(8, 6))\n",
    "plt.ylim(-0.3, 0.4)\n",
    "plt.xlim(-0.35, 0.35)\n",
    "plt.scatter(data_points[:, 0], data_points[:, 1], label=\"Real data points\", color=\"blue\")\n",
    "sns.kdeplot(data=data, fill=True, alpha=1., palette='rocket_r', levels=30, multiple=\"fill\") \n",
    "plot_nns(imle_g, data_points, zs, title=f\"IMLE results\")\n"
   ]
  },
  {
   "cell_type": "code",
   "execution_count": null,
   "metadata": {},
   "outputs": [],
   "source": [
    "generated = ada_imle_g(zs).detach().numpy()\n",
    "data = pd.DataFrame.from_dict({'x': generated[:, 0], 'y': generated[:, 1]})\n",
    "plt.figure(figsize=(8, 6))\n",
    "plt.ylim(-0.3, 0.4)\n",
    "plt.xlim(-0.35, 0.35)\n",
    "plt.scatter(data_points[:, 0], data_points[:, 1], label=\"Real data points\", color=\"blue\")\n",
    "sns.kdeplot(data=data, fill=True, alpha=1.0, palette='rocket_r', levels=30) \n",
    "plot_nns(ada_imle_g, data_points, zs, title=f\"IMLE results\")\n"
   ]
  }
 ],
 "metadata": {
  "kernelspec": {
   "display_name": "Python 3 (ipykernel)",
   "language": "python",
   "name": "python3"
  },
  "language_info": {
   "codemirror_mode": {
    "name": "ipython",
    "version": 3
   },
   "file_extension": ".py",
   "mimetype": "text/x-python",
   "name": "python",
   "nbconvert_exporter": "python",
   "pygments_lexer": "ipython3",
   "version": "3.8.12"
  }
 },
 "nbformat": 4,
 "nbformat_minor": 4
}
