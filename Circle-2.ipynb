{
 "cells": [
  {
   "cell_type": "markdown",
   "metadata": {},
   "source": [
    "## Adaptive IMLE vs Vanilla IMLE\n",
    "In this notebook, we showcase a very basic implementation for [Adaptive IMLE](paper_link) and [Vanilla IMLE](https://arxiv.org/abs/1809.09087) in 2D.\n",
    "\n",
    "While Vanilla IMLE fails to cover all data examples even in this simple situation, Adaptive IMLE covers all data examples showing superior mode-coverage. "
   ]
  },
  {
   "cell_type": "code",
   "execution_count": 1,
   "metadata": {},
   "outputs": [],
   "source": [
    "import os\n",
    "import torch\n",
    "import copy\n",
    "import torch.nn as nn\n",
    "import torch.nn.functional as F\n",
    "import imageio\n",
    "from tqdm import tqdm\n",
    "from matplotlib import pyplot as plt\n",
    "import random\n",
    "import numpy as np\n",
    "import seaborn as sns\n",
    "import pandas as pd\n",
    "from siren_pytorch import SirenNet\n",
    "\n",
    "\n",
    "seed = 0\n",
    "torch.manual_seed(seed)\n",
    "random.seed(seed)\n",
    "np.random.seed(seed)"
   ]
  },
  {
   "cell_type": "markdown",
   "metadata": {},
   "source": [
    "### Generator\n",
    "Here we define a simple generator consisting of a few fully connected layers. We initial its weight using standard Gaussian."
   ]
  },
  {
   "cell_type": "code",
   "execution_count": 2,
   "metadata": {},
   "outputs": [],
   "source": [
    "def init_weights(m):\n",
    "    def truncated_normal_init(t, mean=0.0, std=0.5):\n",
    "        torch.nn.init.normal_(t, mean=mean, std=std)\n",
    "        while True:\n",
    "            cond = torch.logical_or(t < mean - 2 * std, t > mean + 2 * std)\n",
    "            if not torch.sum(cond):\n",
    "                break\n",
    "            t = torch.where(cond, torch.nn.init.normal_(torch.ones(t.shape), mean=mean, std=std), t)\n",
    "        return t\n",
    "    "
   ]
  },
  {
   "cell_type": "code",
   "execution_count": 3,
   "metadata": {},
   "outputs": [],
   "source": [
    "class Generator(nn.Module):\n",
    "    def __init__(self, n_mlp=5, in_dim=32, out_dim=2, hidden_dim=128):\n",
    "        super().__init__()\n",
    "        assert(n_mlp >= 2)\n",
    "\n",
    "        layers = [nn.Linear(in_dim, hidden_dim), nn.LeakyReLU(0.2)]\n",
    "        for i in range(n_mlp - 2):\n",
    "            layers.append(nn.Linear(hidden_dim, hidden_dim))\n",
    "            layers.append(nn.Sigmoid())\n",
    "        layers.append(nn.Linear(hidden_dim, out_dim))\n",
    "        self.layers = nn.Sequential(*layers)\n",
    "#         self.apply(init_weights)        \n",
    "\n",
    "\n",
    "    def forward(self, latents):\n",
    "        return self.layers(latents)"
   ]
  },
  {
   "cell_type": "markdown",
   "metadata": {},
   "source": [
    "### Plotting function\n",
    "We define a simple plotting function to visualize data examples and generated examples."
   ]
  },
  {
   "cell_type": "code",
   "execution_count": 4,
   "metadata": {},
   "outputs": [],
   "source": [
    "def plot_kde(generated, data_points, f_name, title):\n",
    "    plt.clf()\n",
    "    data = pd.DataFrame.from_dict({'x': generated[:, 0], 'y': generated[:, 1]})\n",
    "    plt.figure(figsize=(8, 6))\n",
    "    plt.ylim(-0.3, 0.4)\n",
    "    plt.xlim(-0.35, 0.35)\n",
    "    plt.title(title)\n",
    "    plt.scatter(data_points[:, 0], data_points[:, 1], label=\"Real data points\", color=\"blue\")\n",
    "    sns.kdeplot(data=data, fill=True, levels=200, alpha=0.5, palette=\"rocket_r\") \n",
    "    plt.savefig(f_name)\n",
    "    plt.close()\n",
    "\n",
    "    \n",
    "\n",
    "def plot_nns(g, data_points, zs, selected_z, title=None, f_name=None, arrow=False, vanilla=False):\n",
    "    generated = g(zs).detach()\n",
    "    if(not vanilla):\n",
    "        selected = g(selected_z).detach()\n",
    "    plt.figure(figsize=(8, 6))\n",
    "    # plt.rcParams[\"figure.figsize\"] = [7.50, 3.50]\n",
    "    plt.scatter(data_points[:, 0], data_points[:, 1], label=\"Real data points\", color=\"blue\", marker=\"s\")\n",
    "    plt.scatter(generated[:, 0], generated[:, 1], label=\"Generated samples\", color=\"orange\", alpha=0.4, marker=\".\")\n",
    "    if(not vanilla):\n",
    "        plt.scatter(selected[:, 0], selected[:, 1], label=\"Nearest neighbours\", color=\"red\",marker=\".\")\n",
    "\n",
    "    if arrow:\n",
    "        gen_to_data_vec = data_points - generated\n",
    "        # unit_vecs = gen_to_data_vec / np.linalg.norm(gen_to_data_vec, axis=1)[:, None]\n",
    "        plt.quiver(generated[:, 0], generated[:, 1], 0.19*gen_to_data_vec[:, 0], 0.19*gen_to_data_vec[:, 1],\n",
    "                   color=\"black\", scale_units=\"xy\", angles='xy', scale=0.2, width=0.0015, headwidth=10, headlength=10, label=\"Nearest neighbour vectors\")\n",
    "\n",
    "    plt.legend()\n",
    "    plt.title(title)\n",
    "    plt.ylim(-1.2, 1.2)\n",
    "    plt.xlim(-1.2, 1.2)\n",
    "    if f_name:\n",
    "        plt.savefig(f_name)\n",
    "        plt.close()\n",
    "        #plot_kde(generated, data_points, f_name.replace(\".png\", \"_kde.png\"), title)\n",
    "    else:\n",
    "        plt.show()\n",
    "        \n",
    "def plot_final(g, data_points, zs, selected_z, title=None, f_name=None, arrow=False, vanilla=False):\n",
    "    generated = g(zs).detach()\n",
    "    if(not vanilla):\n",
    "        selected = g(selected_z).detach()\n",
    "    plt.figure(figsize=(8, 6))\n",
    "    # plt.rcParams[\"figure.figsize\"] = [7.50, 3.50]\n",
    "    # plt.scatter(data_points[:, 0], data_points[:, 1], label=\"Real data points\", color=\"blue\", marker=\"s\")\n",
    "    plt.scatter(generated[:, 0], generated[:, 1], label=\"Generated samples\", color=\"orange\", alpha=0.1, marker=\".\")\n",
    "    if(not vanilla):\n",
    "        plt.scatter(selected[:, 0], selected[:, 1], label=\"Nearest neighbours\", color=\"red\",marker=\".\")\n",
    "\n",
    "    if arrow:\n",
    "        gen_to_data_vec = data_points - generated\n",
    "        # unit_vecs = gen_to_data_vec / np.linalg.norm(gen_to_data_vec, axis=1)[:, None]\n",
    "        plt.quiver(generated[:, 0], generated[:, 1], 0.19*gen_to_data_vec[:, 0], 0.19*gen_to_data_vec[:, 1],\n",
    "                   color=\"black\", scale_units=\"xy\", angles='xy', scale=0.2, width=0.0015, headwidth=10, headlength=10, label=\"Nearest neighbour vectors\")\n",
    "\n",
    "    plt.legend()\n",
    "    plt.title(title)\n",
    "    plt.ylim(-1.2, 1.2)\n",
    "    plt.xlim(-1.2, 1.2)\n",
    "    if f_name:\n",
    "        plt.savefig(f_name)\n",
    "        plt.close()\n",
    "        #plot_kde(generated, data_points, f_name.replace(\".png\", \"_kde.png\"), title)\n",
    "    else:\n",
    "        plt.show()"
   ]
  },
  {
   "cell_type": "markdown",
   "metadata": {},
   "source": [
    "### Hyperparameters\n",
    "Here we defined a few hyperparameters."
   ]
  },
  {
   "cell_type": "code",
   "execution_count": 5,
   "metadata": {},
   "outputs": [],
   "source": [
    "zdim = 8  # latent space dimension"
   ]
  },
  {
   "cell_type": "markdown",
   "metadata": {},
   "source": [
    "# Dataset\n",
    "Here we consider some 2D data examples defined by _data\\_points_. We create a generator object and visualize some generated samples."
   ]
  },
  {
   "cell_type": "code",
   "execution_count": 6,
   "metadata": {},
   "outputs": [
    {
     "data": {
      "image/png": "[encoded data removed]",
      "text/plain": [
       "<Figure size 800x600 with 1 Axes>"
      ]
     },
     "metadata": {},
     "output_type": "display_data"
    }
   ],
   "source": [
    "g = Generator(n_mlp=4, in_dim=zdim)\n",
    "# g = GeneratorLehsun(n_mlp=4, in_dim=zdim)\n",
    "# data_points = torch.tensor([\n",
    "#         [-0.1257,  0.3797],\n",
    "#         [-0.1573,  0.1287],\n",
    "#         [ 0.1076,  0.0971],\n",
    "#         [ 0.1443,  0.1333],\n",
    "#         [-0.1243,  0.1533],\n",
    "#         [-0.0321,  0.1898],\n",
    "#         [ 0.1347, -0.1573],\n",
    "#         [-0.3069,  0.2949],\n",
    "#         [ 0.0202,  0.1158],\n",
    "#         [ 0.3023,  0.3158],\n",
    "#         [ 0.2379, -0.2279],\n",
    "#         [-0.2379, -0.2279],\n",
    "#         [-0.0295,  0.0197],\n",
    "#         [ 0.0853, -0.0708]])\n",
    "\n",
    "data_points = torch.load(\"circle2.pt\")\n",
    "\n",
    "data_points -= torch.mean(data_points, 0)\n",
    "data_points /= torch.tensor([20,10])\n",
    "\n",
    "n = data_points.shape[0]\n",
    "nz = data_points.shape[0]*10  # pool size\n",
    "zs = torch.randn(nz, zdim)\n",
    "\n",
    "plot_nns(g, data_points, zs, None, title=\"Generated samples\", vanilla=True)"
   ]
  },
  {
   "cell_type": "code",
   "execution_count": 7,
   "metadata": {},
   "outputs": [],
   "source": [
    "lr = 0.01  # learning rate\n",
    "epochs = 10000  # number of epochs for training\n",
    "tau=0.85  # tightening threshold defined in the Adaptive IMLE paper\n",
    "noise_coef = 0.000001  # additive noise coeficient\n",
    "staleness = 1000  # staleness for Vanilla IMLE"
   ]
  },
  {
   "cell_type": "markdown",
   "metadata": {},
   "source": [
    "### Nearest Neighbours\n",
    "Here we define a naive function to find nearest neighbour of each data example. This nearest neighbour part can be vastly optimized using [DCI](https://arxiv.org/abs/1703.00440)."
   ]
  },
  {
   "cell_type": "code",
   "execution_count": 8,
   "metadata": {},
   "outputs": [
    {
     "data": {
      "image/png": "[encoded data removed]",
      "text/plain": [
       "<Figure size 800x600 with 1 Axes>"
      ]
     },
     "metadata": {},
     "output_type": "display_data"
    }
   ],
   "source": [
    "def find_nn(data_point, generated):\n",
    "    dists = torch.sum((generated - data_point)**2, dim=1)\n",
    "    return torch.argmin(dists).item()\n",
    "\n",
    "def find_nn_new(data_point, generated, limit = 1e-3):\n",
    "    dists = torch.sum((generated - data_point)**2, dim=1)\n",
    "    to_update = dists < limit\n",
    "    dists[to_update] = 100\n",
    "    return torch.argmin(dists).item()\n",
    "\n",
    "generated = g(zs).detach()\n",
    "nns = [find_nn(data_points[i], generated) for i in range(n)]\n",
    "\n",
    "plot_nns(g, data_points, zs[nns], None, title=\"Nearest Neighbours\", arrow=True, vanilla=True)"
   ]
  },
  {
   "cell_type": "markdown",
   "metadata": {},
   "source": [
    "### Adaptive IMLE implementation\n",
    "Here we implement a basic version of Adaptive IMLE.\n",
    "The original implementation makes use of several other parts that helps with much faster nearest neighbour search, better convergence and faster training. Here we omit these parts just to show case the algorithm and its simplicity.\n",
    "\n",
    "For the original impelementation refer to the [github repo]()."
   ]
  },
  {
   "cell_type": "code",
   "execution_count": 10,
   "metadata": {},
   "outputs": [
    {
     "name": "stderr",
     "output_type": "stream",
     "text": [
      "100%|██████████████████████████████████████████████████████████████████████████████████████████████████████████████████████████████████████| 20000/20000 [01:15<00:00, 266.04it/s]\n"
     ]
    }
   ],
   "source": [
    "epochs = 20000\n",
    "ada_imle_g = copy.deepcopy(g)\n",
    "optim = torch.optim.Adam(ada_imle_g.parameters(), lr=lr)\n",
    "nz = data_points.shape[0]*10\n",
    "ada_imle_nn_z = torch.randn(n, zdim)\n",
    "dists = torch.tensor([0.1] * n)\n",
    "prev = dists[:]\n",
    "\n",
    "for e in tqdm(range(epochs)):\n",
    "    with torch.no_grad():\n",
    "        dists = torch.sum((ada_imle_g(ada_imle_nn_z) - data_points)**2, dim=1)\n",
    "        to_update = dists < prev * tau \n",
    "\n",
    "        zs = torch.randn(nz, zdim)\n",
    "        generated = ada_imle_g(zs).detach()\n",
    "        nns = torch.tensor([find_nn(d, generated) for d in data_points[to_update]], dtype=torch.long)\n",
    "        ada_imle_nn_z[to_update] = zs[nns] + torch.randn(nns.shape[0], zdim) * noise_coef\n",
    "\n",
    "        generated = ada_imle_g(ada_imle_nn_z)\n",
    "        dists = torch.sum((generated - data_points)**2, dim=1)\n",
    "        prev[to_update] = dists[to_update] * tau\n",
    "        # save data as tensor\n",
    "        torch.save(ada_imle_nn_z, f\"data/z-epoch-{e}.pt\")\n",
    "        torch.save(ada_imle_g, f\"data/g-epoch-{e}.pt\")\n",
    "        torch.save(data_points, f\"data/data_points.pt\")\n",
    "        torch.save(prev, f\"data/prev-epoch-{e}.pt\")\n",
    "        if e % staleness == 0:\n",
    "            nz_fake = data_points.shape[0]*10\n",
    "            zs_fake = torch.randn(nz_fake, zdim)\n",
    "            plot_nns(ada_imle_g, data_points, zs_fake, ada_imle_nn_z, title=f\"Epoch {e}\", f_name=f\"plots_circle_new/ada-epoch-{e}-{nz}.png\", arrow=False)\n",
    "\n",
    "\n",
    "    optim.zero_grad()\n",
    "    outs = ada_imle_g(ada_imle_nn_z)\n",
    "    dists = torch.sum((outs - data_points)**2, dim=0)\n",
    "\n",
    "    loss = dists.mean()\n",
    "    loss.backward()\n",
    "    optim.step()\n",
    "\n",
    "#Saving the training visualizations as GIF\n",
    "with imageio.get_writer(f'plots_circle_new/adaptive_imle_training_{nz}.gif', mode='I') as writer:\n",
    "    for e in range(0,epochs,staleness):\n",
    "        filename = f\"plots_circle_new/ada-epoch-{e}-{nz}.png\"\n",
    "        image = imageio.imread(filename)\n",
    "        writer.append_data(image)\n",
    "        #os.remove(filename)\n",
    "\n",
    "# with imageio.get_writer(f'adaptive_imle_training_kde.gif', mode='I') as writer:\n",
    "#     for e in range(0,epochs,staleness):\n",
    "#         filename = f\"plots/ada-epoch-{e}_kde.png\"\n",
    "#         image = imageio.imread(filename)\n",
    "#         writer.append_data(image)\n",
    "#         os.remove(filename)\n",
    "\n",
    "nz_fake = data_points.shape[0]*10\n",
    "zs_fake = torch.randn(nz_fake, zdim)\n",
    "plot_final(ada_imle_g, data_points, zs_fake, None, title=\"AdaIMLE\", f_name=f\"plots_circle_new/ada-final-{nz}.png\", arrow=False, vanilla=True)\n"
   ]
  },
  {
   "cell_type": "markdown",
   "metadata": {},
   "source": [
    "## Less "
   ]
  },
  {
   "cell_type": "code",
   "execution_count": 11,
   "metadata": {},
   "outputs": [
    {
     "name": "stderr",
     "output_type": "stream",
     "text": [
      "100%|█████████████████████████████████████████████████████████████████████████████████████████████████████████████████████| 20000/20000 [01:16<00:00, 261.24it/s]\n"
     ]
    }
   ],
   "source": [
    "epochs = 20000\n",
    "nz = data_points.shape[0]*5\n",
    "ada_imle_g = copy.deepcopy(g)\n",
    "optim = torch.optim.Adam(ada_imle_g.parameters(), lr=lr)\n",
    "\n",
    "ada_imle_nn_z = torch.randn(n, zdim)\n",
    "dists = torch.tensor([0.1] * n)\n",
    "prev = dists[:]\n",
    "\n",
    "for e in tqdm(range(epochs)):\n",
    "    with torch.no_grad():\n",
    "        dists = torch.sum((ada_imle_g(ada_imle_nn_z) - data_points)**2, dim=1)\n",
    "        to_update = dists < prev * tau \n",
    "\n",
    "        zs = torch.randn(nz, zdim)\n",
    "        generated = ada_imle_g(zs).detach()\n",
    "        nns = torch.tensor([find_nn(d, generated) for d in data_points[to_update]], dtype=torch.long)\n",
    "        ada_imle_nn_z[to_update] = zs[nns] + torch.randn(nns.shape[0], zdim) * noise_coef\n",
    "\n",
    "        generated = ada_imle_g(ada_imle_nn_z)\n",
    "        dists = torch.sum((generated - data_points)**2, dim=1)\n",
    "        prev[to_update] = dists[to_update] * tau\n",
    "        # save data as tensor\n",
    "        torch.save(ada_imle_nn_z, f\"data/z-epoch-{e}.pt\")\n",
    "        torch.save(ada_imle_g, f\"data/g-epoch-{e}.pt\")\n",
    "        torch.save(data_points, f\"data/data_points.pt\")\n",
    "        torch.save(prev, f\"data/prev-epoch-{e}.pt\")\n",
    "        if e % staleness == 0:\n",
    "            nz_fake = data_points.shape[0]*10\n",
    "            zs_fake = torch.randn(nz_fake, zdim)\n",
    "            plot_nns(ada_imle_g, data_points, zs_fake, ada_imle_nn_z, title=f\"Epoch {e}\", f_name=f\"plots_circle2/ada-epoch-{e}-{nz}.png\", arrow=False)\n",
    "\n",
    "\n",
    "    optim.zero_grad()\n",
    "    outs = ada_imle_g(ada_imle_nn_z)\n",
    "    dists = torch.sum((outs - data_points)**2, dim=0)\n",
    "\n",
    "    loss = dists.mean()\n",
    "    loss.backward()\n",
    "    optim.step()\n",
    "\n",
    "#Saving the training visualizations as GIF\n",
    "with imageio.get_writer(f'plots_circle2/adaptive_imle_training-{nz}.gif', mode='I') as writer:\n",
    "    for e in range(0,epochs,staleness):\n",
    "        filename = f\"plots_circle2/ada-epoch-{e}-{nz}.png\"\n",
    "        image = imageio.imread(filename)\n",
    "        writer.append_data(image)\n",
    "        #os.remove(filename)\n",
    "\n",
    "# with imageio.get_writer(f'adaptive_imle_training_kde.gif', mode='I') as writer:\n",
    "#     for e in range(0,epochs,staleness):\n",
    "#         filename = f\"plots/ada-epoch-{e}_kde.png\"\n",
    "#         image = imageio.imread(filename)\n",
    "#         writer.append_data(image)\n",
    "#         os.remove(filename)\n",
    "\n",
    "nz_fake = data_points.shape[0]*10\n",
    "zs_fake = torch.randn(nz_fake, zdim)\n",
    "plot_final(ada_imle_g, data_points, zs_fake, None, title=\"AdaIMLE\", f_name=f\"plots_circle2/ada-final-{nz}.png\", arrow=False, vanilla=True)\n"
   ]
  },
  {
   "cell_type": "markdown",
   "metadata": {},
   "source": [
    "## New distance metric"
   ]
  },
  {
   "cell_type": "code",
   "execution_count": 11,
   "metadata": {},
   "outputs": [
    {
     "name": "stderr",
     "output_type": "stream",
     "text": [
      "100%|██████████████████████████████████████████████████████████████████████████████████████████████████████████████████████████████████████| 20000/20000 [01:31<00:00, 218.41it/s]\n"
     ]
    }
   ],
   "source": [
    "epochs = 20000\n",
    "ada_imle_g = copy.deepcopy(g)\n",
    "optim = torch.optim.Adam(ada_imle_g.parameters(), lr=lr)\n",
    "\n",
    "ada_imle_nn_z = torch.randn(n, zdim)\n",
    "dists = torch.tensor([0.1] * n)\n",
    "prev = dists[:]\n",
    "\n",
    "for e in tqdm(range(epochs)):\n",
    "    with torch.no_grad():\n",
    "        dists = torch.sum((ada_imle_g(ada_imle_nn_z) - data_points)**2, dim=1)\n",
    "        to_update = dists < prev * tau \n",
    "\n",
    "        zs = torch.randn(nz, zdim)\n",
    "        generated = ada_imle_g(zs).detach()\n",
    "        nns = torch.tensor([find_nn_new(d, generated, limit=1e-4) for d in data_points[to_update]], dtype=torch.long)\n",
    "        ada_imle_nn_z[to_update] = zs[nns] + torch.randn(nns.shape[0], zdim) * noise_coef\n",
    "\n",
    "        generated = ada_imle_g(ada_imle_nn_z)\n",
    "        dists = torch.sum((generated - data_points)**2, dim=1)\n",
    "        prev[to_update] = dists[to_update] * tau\n",
    "        # save data as tensor\n",
    "        torch.save(ada_imle_nn_z, f\"data/z-epoch-{e}.pt\")\n",
    "        torch.save(ada_imle_g, f\"data/g-epoch-{e}.pt\")\n",
    "        torch.save(data_points, f\"data/data_points.pt\")\n",
    "        torch.save(prev, f\"data/prev-epoch-{e}.pt\")\n",
    "        if e % staleness == 0:\n",
    "            plot_nns(ada_imle_g, data_points, zs, ada_imle_nn_z, title=f\"Epoch {e}\", f_name=f\"plots_circle_new/ada-limit-epoch-{e}.png\", arrow=False)\n",
    "\n",
    "\n",
    "    optim.zero_grad()\n",
    "    outs = ada_imle_g(ada_imle_nn_z)\n",
    "    dists = torch.sum((outs - data_points)**2, dim=0)\n",
    "\n",
    "    loss = dists.mean()\n",
    "    loss.backward()\n",
    "    optim.step()\n",
    "\n",
    "#Saving the training visualizations as GIF\n",
    "with imageio.get_writer(f'plots_circle_new/adaptive_imle_training.gif', mode='I') as writer:\n",
    "    for e in range(0,epochs,staleness):\n",
    "        filename = f\"plots_circle_new/ada-limit-epoch-{e}.png\"\n",
    "        image = imageio.imread(filename)\n",
    "        writer.append_data(image)\n",
    "        #os.remove(filename)\n",
    "\n",
    "# with imageio.get_writer(f'adaptive_imle_training_kde.gif', mode='I') as writer:\n",
    "#     for e in range(0,epochs,staleness):\n",
    "#         filename = f\"plots/ada-epoch-{e}_kde.png\"\n",
    "#         image = imageio.imread(filename)\n",
    "#         writer.append_data(image)\n",
    "#         os.remove(filename)\n",
    "\n",
    "zs = torch.randn(nz, zdim)\n",
    "plot_final(ada_imle_g, data_points, zs, None, title=\"Ada-IMLE new distance\", f_name=f\"plots_circle_new/ada-limit-final.png\", arrow=False, vanilla=True)\n"
   ]
  },
  {
   "cell_type": "markdown",
   "metadata": {},
   "source": [
    "## Improved"
   ]
  },
  {
   "cell_type": "code",
   "execution_count": 9,
   "metadata": {},
   "outputs": [],
   "source": [
    "def find_nn_improved(data_point, generated, limit = 1e-3,print_results=False):\n",
    "    l2_distances = np.linalg.norm(generated[:, np.newaxis] - data_point , axis=2)\n",
    "    to_exclude = l2_distances < limit\n",
    "    bad_samples_list = np.expand_dims(to_exclude.any(axis=1),-1)\n",
    "    if(print_results):\n",
    "        print(np.sum(bad_samples_list))\n",
    "    bad_samples_list_repeated = np.tile(bad_samples_list,to_exclude.shape[1])\n",
    "    l2_distances[bad_samples_list_repeated] = np.inf\n",
    "    result = np.argmin(l2_distances,axis=0)\n",
    "    return result"
   ]
  },
  {
   "cell_type": "code",
   "execution_count": 10,
   "metadata": {},
   "outputs": [
    {
     "name": "stderr",
     "output_type": "stream",
     "text": [
      "  0%|                                                                                                                          | 1/20000 [00:00<50:47,  6.56it/s]"
     ]
    },
    {
     "name": "stdout",
     "output_type": "stream",
     "text": [
      "1600\n"
     ]
    },
    {
     "name": "stderr",
     "output_type": "stream",
     "text": [
      "  5%|█████▉                                                                                                                | 1012/20000 [00:04<01:51, 169.71it/s]"
     ]
    },
    {
     "name": "stdout",
     "output_type": "stream",
     "text": [
      "1316\n"
     ]
    },
    {
     "name": "stderr",
     "output_type": "stream",
     "text": [
      " 10%|███████████▊                                                                                                          | 2007/20000 [00:09<01:41, 176.50it/s]"
     ]
    },
    {
     "name": "stdout",
     "output_type": "stream",
     "text": [
      "1510\n"
     ]
    },
    {
     "name": "stderr",
     "output_type": "stream",
     "text": [
      " 15%|█████████████████▋                                                                                                    | 3001/20000 [00:13<01:45, 160.71it/s]"
     ]
    },
    {
     "name": "stdout",
     "output_type": "stream",
     "text": [
      "1511\n"
     ]
    },
    {
     "name": "stderr",
     "output_type": "stream",
     "text": [
      " 20%|███████████████████████▋                                                                                              | 4010/20000 [00:18<01:31, 174.56it/s]"
     ]
    },
    {
     "name": "stdout",
     "output_type": "stream",
     "text": [
      "1447\n"
     ]
    },
    {
     "name": "stderr",
     "output_type": "stream",
     "text": [
      " 25%|█████████████████████████████▌                                                                                        | 5012/20000 [00:22<01:21, 183.47it/s]"
     ]
    },
    {
     "name": "stdout",
     "output_type": "stream",
     "text": [
      "1412\n"
     ]
    },
    {
     "name": "stderr",
     "output_type": "stream",
     "text": [
      " 30%|███████████████████████████████████▍                                                                                  | 6008/20000 [00:27<01:16, 183.07it/s]"
     ]
    },
    {
     "name": "stdout",
     "output_type": "stream",
     "text": [
      "152\n"
     ]
    },
    {
     "name": "stderr",
     "output_type": "stream",
     "text": [
      " 35%|█████████████████████████████████████████▎                                                                            | 7008/20000 [00:31<01:09, 186.19it/s]"
     ]
    },
    {
     "name": "stdout",
     "output_type": "stream",
     "text": [
      "1539\n"
     ]
    },
    {
     "name": "stderr",
     "output_type": "stream",
     "text": [
      " 40%|███████████████████████████████████████████████▎                                                                      | 8018/20000 [00:36<01:04, 187.06it/s]"
     ]
    },
    {
     "name": "stdout",
     "output_type": "stream",
     "text": [
      "1068\n"
     ]
    },
    {
     "name": "stderr",
     "output_type": "stream",
     "text": [
      " 45%|█████████████████████████████████████████████████████▏                                                                | 9014/20000 [00:40<00:54, 203.28it/s]"
     ]
    },
    {
     "name": "stdout",
     "output_type": "stream",
     "text": [
      "1552\n"
     ]
    },
    {
     "name": "stderr",
     "output_type": "stream",
     "text": [
      " 50%|██████████████████████████████████████████████████████████▌                                                          | 10017/20000 [00:44<00:53, 187.66it/s]"
     ]
    },
    {
     "name": "stdout",
     "output_type": "stream",
     "text": [
      "1295\n"
     ]
    },
    {
     "name": "stderr",
     "output_type": "stream",
     "text": [
      " 55%|████████████████████████████████████████████████████████████████▎                                                    | 11002/20000 [00:48<00:56, 158.56it/s]"
     ]
    },
    {
     "name": "stdout",
     "output_type": "stream",
     "text": [
      "1473\n"
     ]
    },
    {
     "name": "stderr",
     "output_type": "stream",
     "text": [
      " 60%|██████████████████████████████████████████████████████████████████████▎                                              | 12012/20000 [00:53<00:41, 193.27it/s]"
     ]
    },
    {
     "name": "stdout",
     "output_type": "stream",
     "text": [
      "1416\n"
     ]
    },
    {
     "name": "stderr",
     "output_type": "stream",
     "text": [
      " 65%|████████████████████████████████████████████████████████████████████████████                                         | 13004/20000 [00:57<00:35, 197.55it/s]"
     ]
    },
    {
     "name": "stdout",
     "output_type": "stream",
     "text": [
      "1505\n"
     ]
    },
    {
     "name": "stderr",
     "output_type": "stream",
     "text": [
      " 70%|█████████████████████████████████████████████████████████████████████████████████▉                                   | 14017/20000 [01:01<00:28, 208.91it/s]"
     ]
    },
    {
     "name": "stdout",
     "output_type": "stream",
     "text": [
      "19\n"
     ]
    },
    {
     "name": "stderr",
     "output_type": "stream",
     "text": [
      " 75%|███████████████████████████████████████████████████████████████████████████████████████▉                             | 15025/20000 [01:05<00:23, 213.17it/s]"
     ]
    },
    {
     "name": "stdout",
     "output_type": "stream",
     "text": [
      "1547\n"
     ]
    },
    {
     "name": "stderr",
     "output_type": "stream",
     "text": [
      " 80%|█████████████████████████████████████████████████████████████████████████████████████████████▋                       | 16017/20000 [01:08<00:18, 211.87it/s]"
     ]
    },
    {
     "name": "stdout",
     "output_type": "stream",
     "text": [
      "11\n"
     ]
    },
    {
     "name": "stderr",
     "output_type": "stream",
     "text": [
      " 85%|███████████████████████████████████████████████████████████████████████████████████████████████████▌                 | 17028/20000 [01:12<00:13, 224.57it/s]"
     ]
    },
    {
     "name": "stdout",
     "output_type": "stream",
     "text": [
      "1583\n"
     ]
    },
    {
     "name": "stderr",
     "output_type": "stream",
     "text": [
      " 90%|█████████████████████████████████████████████████████████████████████████████████████████████████████████▎           | 18012/20000 [01:16<00:09, 218.72it/s]"
     ]
    },
    {
     "name": "stdout",
     "output_type": "stream",
     "text": [
      "2\n"
     ]
    },
    {
     "name": "stderr",
     "output_type": "stream",
     "text": [
      " 95%|███████████████████████████████████████████████████████████████████████████████████████████████████████████████▎     | 19019/20000 [01:19<00:04, 222.69it/s]"
     ]
    },
    {
     "name": "stdout",
     "output_type": "stream",
     "text": [
      "5\n"
     ]
    },
    {
     "name": "stderr",
     "output_type": "stream",
     "text": [
      "100%|█████████████████████████████████████████████████████████████████████████████████████████████████████████████████████| 20000/20000 [01:23<00:00, 239.76it/s]\n"
     ]
    }
   ],
   "source": [
    "epochs = 20000\n",
    "ada_imle_g = copy.deepcopy(g)\n",
    "optim = torch.optim.Adam(ada_imle_g.parameters(), lr=lr)\n",
    "plot_staleness = 1000\n",
    "\n",
    "ada_imle_nn_z = torch.randn(n, zdim)\n",
    "dists = torch.tensor([0.1] * n)\n",
    "prev = dists[:]\n",
    "distance_threshold = 1e-1\n",
    "\n",
    "for e in tqdm(range(epochs)):\n",
    "    with torch.no_grad():\n",
    "#         if(e % 10000 == 0 and e > 0 and distance_threshold < 6e-3):\n",
    "#             distance_threshold += 1e-3\n",
    "#             print(\"Distance threshold is: \",distance_threshold)\n",
    "        dists = torch.sum((ada_imle_g(ada_imle_nn_z) - data_points)**2, dim=1)\n",
    "        to_update = dists < prev * tau \n",
    "\n",
    "        zs = torch.randn(nz, zdim)\n",
    "        generated = ada_imle_g(zs).detach()\n",
    "        if e % plot_staleness == 0:\n",
    "            nns = torch.tensor(find_nn_improved(data_points[to_update], generated, limit=distance_threshold, print_results=True), dtype=torch.long)\n",
    "        else:\n",
    "            nns = torch.tensor(find_nn_improved(data_points[to_update], generated, limit=distance_threshold), dtype=torch.long)\n",
    "        ada_imle_nn_z[to_update] = zs[nns] + torch.randn(nns.shape[0], zdim) * noise_coef\n",
    "\n",
    "        generated = ada_imle_g(ada_imle_nn_z)\n",
    "        dists = torch.sum((generated - data_points)**2, dim=1)\n",
    "        prev[to_update] = dists[to_update] * tau\n",
    "        # save data as tensor\n",
    "        torch.save(ada_imle_nn_z, f\"data/z-epoch-{e}.pt\")\n",
    "        torch.save(ada_imle_g, f\"data/g-epoch-{e}.pt\")\n",
    "        torch.save(data_points, f\"data/data_points.pt\")\n",
    "        torch.save(prev, f\"data/prev-epoch-{e}.pt\")\n",
    "        if e % plot_staleness == 0:\n",
    "            plot_nns(ada_imle_g, data_points, zs, ada_imle_nn_z, title=f\"Epoch {e}\", f_name=f\"plots_circle_new/ada-improved-epoch-{e}.png\", arrow=False)\n",
    "\n",
    "\n",
    "    optim.zero_grad()\n",
    "    outs = ada_imle_g(ada_imle_nn_z)\n",
    "    dists = torch.sum((outs - data_points)**2, dim=0)\n",
    "\n",
    "    loss = dists.mean()\n",
    "    loss.backward()\n",
    "    optim.step()\n",
    "\n",
    "#Saving the training visualizations as GIF\n",
    "with imageio.get_writer(f'plots_circle_new/adaptive_imle_improved_training.gif', mode='I') as writer:\n",
    "    for e in range(0,epochs,plot_staleness):\n",
    "        filename = f\"plots_circle_new/ada-improved-epoch-{e}.png\"\n",
    "        image = imageio.imread(filename)\n",
    "        writer.append_data(image)\n",
    "        #os.remove(filename)\n",
    "\n",
    "# with imageio.get_writer(f'adaptive_imle_training_kde.gif', mode='I') as writer:\n",
    "#     for e in range(0,epochs,staleness):\n",
    "#         filename = f\"plots/ada-epoch-{e}_kde.png\"\n",
    "#         image = imageio.imread(filename)\n",
    "#         writer.append_data(image)\n",
    "#         os.remove(filename)\n",
    "\n",
    "zs = torch.randn(nz, zdim)\n",
    "plot_final(ada_imle_g, data_points, zs, None, title=\"Ada-IMLE new distance\", f_name=f\"plots_circle_new/ada-improved-final.png\", arrow=False, vanilla=True)\n"
   ]
  },
  {
   "cell_type": "code",
   "execution_count": 15,
   "metadata": {},
   "outputs": [
    {
     "name": "stderr",
     "output_type": "stream",
     "text": [
      "100%|████████████████████████████████████████████████████████████████████████████████████████████████████████████████| 20000/20000 [01:13<00:00, 272.48it/s]\n"
     ]
    }
   ],
   "source": [
    "epochs = 20000\n",
    "var_staleness = 200\n",
    "ada_imle_g_var = copy.deepcopy(g)\n",
    "optim = torch.optim.Adam(ada_imle_g_var.parameters(), lr=lr)\n",
    "\n",
    "ada_imle_nn_z = torch.randn(n, zdim)\n",
    "dists = torch.tensor([0.1] * n)\n",
    "prev = dists[:]\n",
    "nz_temp = nz\n",
    "\n",
    "for e in tqdm(range(epochs)):\n",
    "    \n",
    "    with torch.no_grad():\n",
    "        dists = torch.sum((ada_imle_g_var(ada_imle_nn_z) - data_points)**2, dim=1)\n",
    "        to_update = dists < prev * tau \n",
    "\n",
    "        zs = torch.randn(nz_temp, zdim)\n",
    "        generated = ada_imle_g_var(zs).detach()\n",
    "        nns = torch.tensor([find_nn(d, generated) for d in data_points[to_update]], dtype=torch.long)\n",
    "        ada_imle_nn_z[to_update] = zs[nns] + torch.randn(nns.shape[0], zdim) * noise_coef\n",
    "\n",
    "        generated = ada_imle_g_var(ada_imle_nn_z)\n",
    "        dists = torch.sum((generated - data_points)**2, dim=1)\n",
    "        prev[to_update] = dists[to_update] * tau\n",
    "        # save data as tensor\n",
    "        torch.save(ada_imle_nn_z, f\"data/z-epoch-{e}.pt\")\n",
    "        torch.save(ada_imle_g_var, f\"data/g-epoch-{e}.pt\")\n",
    "        torch.save(data_points, f\"data/data_points.pt\")\n",
    "        torch.save(prev, f\"data/prev-epoch-{e}.pt\")\n",
    "        percentage_completed = e/epochs\n",
    "        if e % staleness == 0:\n",
    "            zs_fake = torch.randn(nz, zdim)\n",
    "            plot_nns(ada_imle_g_var, data_points, zs_fake, ada_imle_nn_z, title=f\"Epoch {e}\", f_name=f\"plots_circle2/ada-var-epoch-{e}.png\", arrow=False)\n",
    "        if e % var_staleness == 0:\n",
    "            nz_temp = nz\n",
    "        if (percentage_completed >= 0.85):\n",
    "            nz_temp = nz\n",
    "        if (percentage_completed < 0.85 and e % 5 == 0 and nz_temp > 1*data_points.shape[0]):\n",
    "            nz_temp -= data_points.shape[0]\n",
    "        \n",
    "\n",
    "    optim.zero_grad()\n",
    "    outs = ada_imle_g_var(ada_imle_nn_z)\n",
    "    dists = torch.sum((outs - data_points)**2, dim=0)\n",
    "\n",
    "    loss = dists.mean()\n",
    "    loss.backward()\n",
    "    optim.step()\n",
    "\n",
    "#Saving the training visualizations as GIF\n",
    "with imageio.get_writer(f'plots_circle2/adaptive_imle_var_training.gif', mode='I') as writer:\n",
    "    for e in range(0,epochs,staleness):\n",
    "        filename = f\"plots_circle2/ada-var-epoch-{e}.png\"\n",
    "        image = imageio.imread(filename)\n",
    "        writer.append_data(image)\n",
    "        #os.remove(filename)\n",
    "        \n",
    "\n",
    "# with imageio.get_writer(f'adaptive_imle_training_kde.gif', mode='I') as writer:\n",
    "#     for e in range(0,epochs,staleness):\n",
    "#         filename = f\"plots/ada-epoch-{e}_kde.png\"\n",
    "#         image = imageio.imread(filename)\n",
    "#         writer.append_data(image)\n",
    "#         os.remove(filename)"
   ]
  },
  {
   "cell_type": "code",
   "execution_count": 11,
   "metadata": {},
   "outputs": [],
   "source": [
    "zs = torch.randn(nz, zdim)\n",
    "plot_nns(ada_imle_g_var, data_points, zs, None, title=\"Ada-IMLE var\", f_name=f\"plots_circle2/ada-var-final.png\", arrow=False, vanilla=True)\n"
   ]
  },
  {
   "cell_type": "code",
   "execution_count": 38,
   "metadata": {},
   "outputs": [],
   "source": [
    "# # you can ignore this part\n",
    "# # just plotting kde\n",
    "\n",
    "# interval = 10\n",
    "# to_save = list(range(0, epochs, interval)) + [epochs - 1]\n",
    "# print(to_save)\n",
    "# for e in to_save:\n",
    "#     zs = torch.load(f\"data/z-epoch-{e}.pt\")\n",
    "#     gs = torch.load(f\"data/g-epoch-{e}.pt\")\n",
    "#     data_points = torch.load(f\"data/data_points.pt\")\n",
    "#     plot_kde(gs(zs).detach(), data_points, f\"plots/epoch-{e}_kde.png\", f\"Epoch {e}\")\n",
    "\n",
    "# with imageio.get_writer(f'adaptive_imle_training_kde.gif', mode='I') as writer:\n",
    "#     # every 10\n",
    "#     for e in range(0, epochs, 10):\n",
    "#         filename = f\"plots/epoch-{e}_kde.png\"\n",
    "#         image = imageio.imread(filename)\n",
    "#         writer.append_data(image)\n",
    "#         writer.append_data(image)\n",
    "#     for i in range(10):\n",
    "#         filename = f\"plots/epoch-{epochs - 1}_kde.png\"\n",
    "#         image = imageio.imread(filename)\n",
    "#         writer.append_data(image)"
   ]
  },
  {
   "cell_type": "code",
   "execution_count": 11,
   "metadata": {},
   "outputs": [],
   "source": [
    "# # you can ignore this part\n",
    "# # just ploting the neighbourhood shrinking process\n",
    "\n",
    "# from utils import circles\n",
    "# from numpy import arange\n",
    "# def plot_with_circles(g, data_points, zs, prev, title=None, f_name=None, arrow=False):\n",
    "#     plt.clf()\n",
    "#     generated = g(zs).detach()\n",
    "#     plt.figure(figsize=(8, 8))\n",
    "#     # plt.rcParams[\"figure.figsize\"] = [7.50, 3.50]\n",
    "#     plt.scatter(data_points[:, 0], data_points[:, 1], label=\"Real data points\", color=\"blue\")\n",
    "#     plt.scatter(generated[:, 0], generated[:, 1], label=\"Nearest neighbours\", color=\"red\")\n",
    "#     radius = np.sqrt(prev)\n",
    "#     # outer_radius = np.sqrt(prev / tau)\n",
    "#     outer_radius = radius / tau\n",
    "#     # circles(data_points[:, 0], data_points[:, 1], radius, color=\"green\", alpha=0.1)\n",
    "#     for i in range(len(data_points)):\n",
    "#         circles(data_points[i, 0], data_points[i, 1], radius[i], color=\"green\", alpha=0.1)\n",
    "#         circles(data_points[i, 0], data_points[i, 1], outer_radius[i], color=\"green\", alpha=0.05, ec='black')\n",
    "#     if arrow:\n",
    "#         gen_to_data_vec = data_points - generated\n",
    "#         # unit_vecs = gen_to_data_vec / np.linalg.norm(gen_to_data_vec, axis=1)[:, None]\n",
    "#         plt.quiver(generated[:, 0], generated[:, 1], 0.19*gen_to_data_vec[:, 0], 0.19*gen_to_data_vec[:, 1], alpha=0.5,\n",
    "#                    color=\"black\", scale_units=\"xy\", angles='xy', scale=0.2, width=0.0015, headwidth=10, headlength=10, label=\"Nearest neighbour vectors\")\n",
    "\n",
    "#     plt.legend()\n",
    "#     plt.title(title)\n",
    "#     plt.ylim(-0.3, 0.4)\n",
    "#     plt.xlim(-0.35, 0.35)\n",
    "#     plt.savefig(f_name)\n",
    "#     plt.close()\n",
    "\n",
    "# interval = 10\n",
    "# to_save = list(range(0, epochs, interval)) + [epochs - 1]\n",
    "# prev_0 = torch.load(f\"data/prev-epoch-0.pt\")\n",
    "# for e in to_save:\n",
    "#     zs = torch.load(f\"data/z-epoch-{e}.pt\")\n",
    "#     gs = torch.load(f\"data/g-epoch-{e}.pt\")\n",
    "#     data_points = torch.load(f\"data/data_points.pt\")\n",
    "#     prev = torch.load(f\"data/prev-epoch-{e}.pt\")\n",
    "#     # prev = torch.min(prev, prev_0)\n",
    "#     plot_with_circles(gs, data_points, zs, prev, title=f\"Epoch {e}\", f_name=f\"plots2/epoch-{e}.png\", arrow=True)\n",
    "#     plot_kde(gs(zs).detach(), data_points, f\"plots/epoch-{e}_kde.png\", f\"Epoch {e}\")\n",
    "\n",
    "# # save gif\n",
    "# with imageio.get_writer(f'adaptive_imle_training.gif', mode='I') as writer:\n",
    "#     for e in range(0, epochs, interval):\n",
    "#         filename = f\"plots2/epoch-{e}.png\"\n",
    "#         image = imageio.imread(filename)\n",
    "#         writer.append_data(image)\n",
    "#     filename = f\"plots2/epoch-299.png\"\n",
    "#     image = imageio.imread(filename)\n",
    "#     for i in range(20):\n",
    "#         writer.append_data(image)"
   ]
  },
  {
   "cell_type": "markdown",
   "metadata": {},
   "source": [
    "### Vanilla IMLE implementation\n",
    "Here we implement a basic version of Vanilla IMLE."
   ]
  },
  {
   "cell_type": "code",
   "execution_count": 32,
   "metadata": {},
   "outputs": [
    {
     "name": "stderr",
     "output_type": "stream",
     "text": [
      "100%|████████████████████████████████████████████████████████████████████████████████████████████████████████████████████████| 3000/3000 [01:52<00:00, 26.70it/s]\n"
     ]
    },
    {
     "data": {
      "text/plain": [
       "<Figure size 640x480 with 0 Axes>"
      ]
     },
     "metadata": {},
     "output_type": "display_data"
    }
   ],
   "source": [
    "imle_g = copy.deepcopy(g)\n",
    "optim = torch.optim.SGD(imle_g.parameters(), lr=lr)\n",
    "imle_nn_z = torch.randn(n, zdim)\n",
    "epochs = 3000\n",
    "\n",
    "for e in tqdm(range(epochs)):\n",
    "    with torch.no_grad():\n",
    "        if e % staleness == 0:\n",
    "            zs = torch.randn(nz, zdim)\n",
    "            generated = imle_g(zs).detach()\n",
    "            nns = torch.tensor([find_nn(d, generated) for d in data_points], dtype=torch.long)\n",
    "            imle_nn_z = zs[nns] + torch.randn(nns.shape[0], zdim) * noise_coef\n",
    "            plot_nns(imle_g, data_points, zs, imle_nn_z, title=f\"Epoch {e}\", f_name=f\"plots/epoch-{e}.png\", arrow=False)\n",
    "\n",
    "    optim.zero_grad()\n",
    "    outs = imle_g(imle_nn_z)\n",
    "    dists = torch.sum((outs - data_points)**2, dim=1)\n",
    "    loss = dists.mean()\n",
    "    loss.backward()\n",
    "    optim.step()\n",
    "\n",
    "# Saving the training visualizations as GIF\n",
    "with imageio.get_writer(f'imle_training.gif', mode='I') as writer:\n",
    "    for e in range(0,epochs,staleness):\n",
    "        filename = f\"plots/epoch-{e}.png\"\n",
    "        image = imageio.imread(filename)\n",
    "        writer.append_data(image)\n",
    "        os.remove(filename)\n",
    "\n",
    "# with imageio.get_writer(f'imle_training_kde.gif', mode='I') as writer:\n",
    "#     for e in range(0,epochs,staleness):\n",
    "#         filename = f\"plots/epoch-{e}_kde.png\"\n",
    "#         image = imageio.imread(filename)\n",
    "#         writer.append_data(image)\n",
    "#         os.remove(filename)"
   ]
  },
  {
   "cell_type": "markdown",
   "metadata": {},
   "source": [
    "### Visualizing results\n",
    "Here we visualize nearest neighbour of each data example among randomly generated samples after training. We can see that Vanilla IMLE fails to cover the left-most and right-most data examples while Adaptive IMLE succeeds in covering all data examples the same."
   ]
  },
  {
   "cell_type": "code",
   "execution_count": null,
   "metadata": {},
   "outputs": [],
   "source": [
    "nz = 500  # number of generated samples\n",
    "\n",
    "zs = torch.randn(nz, zdim)\n",
    "generated = ada_imle_g(zs).detach()\n",
    "nns = [find_nn(data_points[i], generated) for i in range(n)]\n",
    "plot_nns(ada_imle_g, data_points, zs[nns], title=f\"Adaptive IMLE results\", arrow=True)\n",
    "\n",
    "generated = imle_g(zs).detach()\n",
    "nns = [find_nn(data_points[i], generated) for i in range(n)]\n",
    "plot_nns(imle_g, data_points, zs[nns], title=f\"IMLE results\", arrow=True)"
   ]
  },
  {
   "cell_type": "code",
   "execution_count": null,
   "metadata": {},
   "outputs": [],
   "source": [
    "# generated = generated.detach().numpy()\n",
    "# sns.kdeplot(data={'x': generated[:, 0], 'y': generated[:, 1]}, x=\"x\", y=\"y\", fill=True, alpha=1., cmap='rocket_r', levels=30) \n",
    "generated = imle_g(zs).detach().numpy()\n",
    "data = pd.DataFrame.from_dict({'x': generated[:, 0], 'y': generated[:, 1]})\n",
    "plt.figure(figsize=(8, 6))\n",
    "plt.ylim(-0.3, 0.4)\n",
    "plt.xlim(-0.35, 0.35)\n",
    "plt.scatter(data_points[:, 0], data_points[:, 1], label=\"Real data points\", color=\"blue\")\n",
    "sns.kdeplot(data=data, fill=True, alpha=1., palette='rocket_r', levels=30, multiple=\"fill\") \n",
    "plot_nns(imle_g, data_points, zs, title=f\"IMLE results\")\n"
   ]
  },
  {
   "cell_type": "code",
   "execution_count": null,
   "metadata": {},
   "outputs": [],
   "source": [
    "generated = ada_imle_g(zs).detach().numpy()\n",
    "data = pd.DataFrame.from_dict({'x': generated[:, 0], 'y': generated[:, 1]})\n",
    "plt.figure(figsize=(8, 6))\n",
    "plt.ylim(-0.3, 0.4)\n",
    "plt.xlim(-0.35, 0.35)\n",
    "plt.scatter(data_points[:, 0], data_points[:, 1], label=\"Real data points\", color=\"blue\")\n",
    "sns.kdeplot(data=data, fill=True, alpha=1.0, palette='rocket_r', levels=30) \n",
    "plot_nns(ada_imle_g, data_points, zs, title=f\"IMLE results\")\n"
   ]
  }
 ],
 "metadata": {
  "kernelspec": {
   "display_name": "Python 3 (ipykernel)",
   "language": "python",
   "name": "python3"
  },
  "language_info": {
   "codemirror_mode": {
    "name": "ipython",
    "version": 3
   },
   "file_extension": ".py",
   "mimetype": "text/x-python",
   "name": "python",
   "nbconvert_exporter": "python",
   "pygments_lexer": "ipython3",
   "version": "3.8.12"
  }
 },
 "nbformat": 4,
 "nbformat_minor": 4
}
